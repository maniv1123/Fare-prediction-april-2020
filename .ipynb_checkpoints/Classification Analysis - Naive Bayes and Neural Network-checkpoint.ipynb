{
 "cells": [
  {
   "cell_type": "markdown",
   "metadata": {},
   "source": [
    "# Naive Bayes and Single-Layer Neural Network \n",
    "\n",
    "We are going to try and see how accurately these two classifiers can predict fare price for our taxi rides.\n",
    "We have our data labeled with a binning system.\n"
   ]
  },
  {
   "cell_type": "code",
   "execution_count": 1,
   "metadata": {},
   "outputs": [],
   "source": [
    "import warnings\n",
    "warnings.simplefilter(\"ignore\")\n",
    "\n",
    "import pandas as pd\n",
    "import matplotlib as plt\n",
    "import numpy as np\n",
    "import sklearn as sk\n",
    "\n",
    "from sklearn.preprocessing import StandardScaler\n",
    "from sklearn.pipeline import Pipeline\n",
    "from sklearn.naive_bayes import GaussianNB\n",
    "from sklearn.model_selection import cross_val_score\n",
    "from sklearn.model_selection import cross_val_predict\n",
    "from sklearn.metrics import confusion_matrix\n",
    "from sklearn.metrics import classification_report\n",
    "from sklearn.model_selection import GridSearchCV\n",
    "from sklearn.neural_network import MLPClassifier\n"
   ]
  },
  {
   "cell_type": "code",
   "execution_count": 2,
   "metadata": {},
   "outputs": [
    {
     "name": "stdout",
     "output_type": "stream",
     "text": [
      "(80501, 19)\n"
     ]
    },
    {
     "data": {
      "text/html": [
       "<div>\n",
       "<style scoped>\n",
       "    .dataframe tbody tr th:only-of-type {\n",
       "        vertical-align: middle;\n",
       "    }\n",
       "\n",
       "    .dataframe tbody tr th {\n",
       "        vertical-align: top;\n",
       "    }\n",
       "\n",
       "    .dataframe thead th {\n",
       "        text-align: right;\n",
       "    }\n",
       "</style>\n",
       "<table border=\"1\" class=\"dataframe\">\n",
       "  <thead>\n",
       "    <tr style=\"text-align: right;\">\n",
       "      <th></th>\n",
       "      <th>trip_distance</th>\n",
       "      <th>fare_amount</th>\n",
       "      <th>winter</th>\n",
       "      <th>spring</th>\n",
       "      <th>summer</th>\n",
       "      <th>fall</th>\n",
       "      <th>PULongitude</th>\n",
       "      <th>PULatitude</th>\n",
       "      <th>DOLongitude</th>\n",
       "      <th>DOLatitude</th>\n",
       "      <th>pickup_datetime</th>\n",
       "      <th>dropoff_datetime</th>\n",
       "      <th>ride_duration</th>\n",
       "      <th>Early morning</th>\n",
       "      <th>Morning</th>\n",
       "      <th>Afternoon</th>\n",
       "      <th>Night</th>\n",
       "      <th>Holiday Proximity</th>\n",
       "      <th>label</th>\n",
       "    </tr>\n",
       "  </thead>\n",
       "  <tbody>\n",
       "    <tr>\n",
       "      <td>0</td>\n",
       "      <td>5.90</td>\n",
       "      <td>41.5</td>\n",
       "      <td>0</td>\n",
       "      <td>1</td>\n",
       "      <td>0</td>\n",
       "      <td>0</td>\n",
       "      <td>-73.984176</td>\n",
       "      <td>40.759845</td>\n",
       "      <td>-73.961815</td>\n",
       "      <td>40.809570</td>\n",
       "      <td>2019-03-26 14:24:29</td>\n",
       "      <td>2019-03-26 15:26:27</td>\n",
       "      <td>0 days 01:01:58.000000000</td>\n",
       "      <td>0</td>\n",
       "      <td>0</td>\n",
       "      <td>1</td>\n",
       "      <td>0</td>\n",
       "      <td>1</td>\n",
       "      <td>J</td>\n",
       "    </tr>\n",
       "    <tr>\n",
       "      <td>1</td>\n",
       "      <td>7.31</td>\n",
       "      <td>28.0</td>\n",
       "      <td>0</td>\n",
       "      <td>0</td>\n",
       "      <td>1</td>\n",
       "      <td>0</td>\n",
       "      <td>-73.965572</td>\n",
       "      <td>40.782460</td>\n",
       "      <td>-73.853384</td>\n",
       "      <td>40.752316</td>\n",
       "      <td>2019-07-03 07:15:18</td>\n",
       "      <td>2019-07-03 07:49:08</td>\n",
       "      <td>0 days 00:33:50.000000000</td>\n",
       "      <td>0</td>\n",
       "      <td>1</td>\n",
       "      <td>0</td>\n",
       "      <td>0</td>\n",
       "      <td>0</td>\n",
       "      <td>J</td>\n",
       "    </tr>\n",
       "    <tr>\n",
       "      <td>2</td>\n",
       "      <td>0.99</td>\n",
       "      <td>5.5</td>\n",
       "      <td>0</td>\n",
       "      <td>1</td>\n",
       "      <td>0</td>\n",
       "      <td>0</td>\n",
       "      <td>-73.981352</td>\n",
       "      <td>40.773906</td>\n",
       "      <td>-73.987973</td>\n",
       "      <td>40.775770</td>\n",
       "      <td>2019-05-25 17:25:49</td>\n",
       "      <td>2019-05-25 17:30:21</td>\n",
       "      <td>0 days 00:04:32.000000000</td>\n",
       "      <td>0</td>\n",
       "      <td>0</td>\n",
       "      <td>1</td>\n",
       "      <td>0</td>\n",
       "      <td>0</td>\n",
       "      <td>B</td>\n",
       "    </tr>\n",
       "    <tr>\n",
       "      <td>3</td>\n",
       "      <td>1.91</td>\n",
       "      <td>9.0</td>\n",
       "      <td>0</td>\n",
       "      <td>0</td>\n",
       "      <td>1</td>\n",
       "      <td>0</td>\n",
       "      <td>-73.972145</td>\n",
       "      <td>40.756816</td>\n",
       "      <td>-73.956972</td>\n",
       "      <td>40.780491</td>\n",
       "      <td>2019-07-22 15:31:00</td>\n",
       "      <td>2019-07-22 15:41:36</td>\n",
       "      <td>0 days 00:10:36.000000000</td>\n",
       "      <td>0</td>\n",
       "      <td>0</td>\n",
       "      <td>1</td>\n",
       "      <td>0</td>\n",
       "      <td>0</td>\n",
       "      <td>C</td>\n",
       "    </tr>\n",
       "    <tr>\n",
       "      <td>4</td>\n",
       "      <td>1.18</td>\n",
       "      <td>7.5</td>\n",
       "      <td>0</td>\n",
       "      <td>1</td>\n",
       "      <td>0</td>\n",
       "      <td>0</td>\n",
       "      <td>-73.965691</td>\n",
       "      <td>40.768542</td>\n",
       "      <td>-73.954568</td>\n",
       "      <td>40.765507</td>\n",
       "      <td>2019-03-13 21:13:28</td>\n",
       "      <td>2019-03-13 21:21:42</td>\n",
       "      <td>0 days 00:08:14.000000000</td>\n",
       "      <td>0</td>\n",
       "      <td>0</td>\n",
       "      <td>0</td>\n",
       "      <td>0</td>\n",
       "      <td>0</td>\n",
       "      <td>C</td>\n",
       "    </tr>\n",
       "  </tbody>\n",
       "</table>\n",
       "</div>"
      ],
      "text/plain": [
       "   trip_distance  fare_amount  winter  spring  summer  fall  PULongitude  \\\n",
       "0           5.90         41.5       0       1       0     0   -73.984176   \n",
       "1           7.31         28.0       0       0       1     0   -73.965572   \n",
       "2           0.99          5.5       0       1       0     0   -73.981352   \n",
       "3           1.91          9.0       0       0       1     0   -73.972145   \n",
       "4           1.18          7.5       0       1       0     0   -73.965691   \n",
       "\n",
       "   PULatitude  DOLongitude  DOLatitude      pickup_datetime  \\\n",
       "0   40.759845   -73.961815   40.809570  2019-03-26 14:24:29   \n",
       "1   40.782460   -73.853384   40.752316  2019-07-03 07:15:18   \n",
       "2   40.773906   -73.987973   40.775770  2019-05-25 17:25:49   \n",
       "3   40.756816   -73.956972   40.780491  2019-07-22 15:31:00   \n",
       "4   40.768542   -73.954568   40.765507  2019-03-13 21:13:28   \n",
       "\n",
       "      dropoff_datetime              ride_duration  Early morning  Morning  \\\n",
       "0  2019-03-26 15:26:27  0 days 01:01:58.000000000              0        0   \n",
       "1  2019-07-03 07:49:08  0 days 00:33:50.000000000              0        1   \n",
       "2  2019-05-25 17:30:21  0 days 00:04:32.000000000              0        0   \n",
       "3  2019-07-22 15:41:36  0 days 00:10:36.000000000              0        0   \n",
       "4  2019-03-13 21:21:42  0 days 00:08:14.000000000              0        0   \n",
       "\n",
       "   Afternoon  Night  Holiday Proximity label  \n",
       "0          1      0                  1     J  \n",
       "1          0      0                  0     J  \n",
       "2          1      0                  0     B  \n",
       "3          1      0                  0     C  \n",
       "4          0      0                  0     C  "
      ]
     },
     "execution_count": 2,
     "metadata": {},
     "output_type": "execute_result"
    }
   ],
   "source": [
    "#import data \n",
    "data = pd.read_csv(\"taxi_clean_lg.csv\")\n",
    "\n",
    "#display data\n",
    "print(data.shape)\n",
    "      \n",
    "data.head()"
   ]
  },
  {
   "cell_type": "markdown",
   "metadata": {},
   "source": [
    " When converting our cleaned data into a csv and then loading it back into this notebook, we lose the datetime format for our pickup and drop off times. <br> Here we will transform it into a numeric object so our algorithms will run smoothly."
   ]
  },
  {
   "cell_type": "code",
   "execution_count": 3,
   "metadata": {},
   "outputs": [],
   "source": [
    "data['pickup_datetime'] = pd.to_datetime(data['pickup_datetime'])\n",
    "data['pickup_datetime'] = pd.to_numeric(data['pickup_datetime'])\n",
    "data['dropoff_datetime'] = pd.to_datetime(data['dropoff_datetime'])\n",
    "data['dropoff_datetime'] = pd.to_numeric(data['dropoff_datetime'])\n",
    "\n",
    "data['ride_duration'] = data['dropoff_datetime'] - data['pickup_datetime']\n",
    "\n"
   ]
  },
  {
   "cell_type": "markdown",
   "metadata": {},
   "source": [
    "### Splitting the data"
   ]
  },
  {
   "cell_type": "code",
   "execution_count": 4,
   "metadata": {},
   "outputs": [],
   "source": [
    "#split our data \n",
    "#data_X = our attributes\n",
    "#data_y = labels\n",
    "\n",
    "data_X = data.drop(['label'], axis = 1)\n",
    "data_y = data['label']\n"
   ]
  },
  {
   "cell_type": "markdown",
   "metadata": {},
   "source": [
    "### Naive Bayes Classification"
   ]
  },
  {
   "cell_type": "code",
   "execution_count": 5,
   "metadata": {},
   "outputs": [
    {
     "name": "stdout",
     "output_type": "stream",
     "text": [
      "Accuracy: 53.74845438552749\n"
     ]
    }
   ],
   "source": [
    "#start with naive bayes\n",
    "#define our classifier\n",
    "clf = GaussianNB()\n",
    " \n",
    "#run a cross validation loop on our data and return the accuracy\n",
    "scores = cross_val_score(clf, data_X, data_y, cv = 10)\n",
    "print('Accuracy:',scores.mean()*100)"
   ]
  },
  {
   "cell_type": "code",
   "execution_count": 6,
   "metadata": {},
   "outputs": [
    {
     "name": "stdout",
     "output_type": "stream",
     "text": [
      "Confusion Matrix:\n",
      " [[    0  5869     2     0     0     0     0     0     0     0]\n",
      " [    0 18843   295     2     1     0     0     0     0     1]\n",
      " [    0  5275 11339    46     5     1     0     0     0     2]\n",
      " [    0   259  7141  3987    28     2     0     0     0     2]\n",
      " [    0    45  1338  4049  1850    19     0     0     0     1]\n",
      " [    0    11   408  1310  2042   818     0     0     0    88]\n",
      " [    0     7   183   605   904   731     0     0     0   760]\n",
      " [    0     0    98   352   497   426     0     0     0   861]\n",
      " [    0     0    53   247   306   248     0     0     0   760]\n",
      " [    0    11    34   292   790   826     0     0     0  6431]] \n",
      "\n",
      "Classification Report:\n",
      "\n",
      "               precision    recall  f1-score   support\n",
      "\n",
      "           A       0.00      0.00      0.00      5871\n",
      "           B       0.62      0.98      0.76     19142\n",
      "           C       0.54      0.68      0.60     16668\n",
      "           D       0.37      0.35      0.36     11419\n",
      "           E       0.29      0.25      0.27      7302\n",
      "           F       0.27      0.17      0.21      4677\n",
      "           G       0.00      0.00      0.00      3190\n",
      "           H       0.00      0.00      0.00      2234\n",
      "           I       0.00      0.00      0.00      1614\n",
      "           J       0.72      0.77      0.74      8384\n",
      "\n",
      "    accuracy                           0.54     80501\n",
      "   macro avg       0.28      0.32      0.29     80501\n",
      "weighted avg       0.43      0.54      0.47     80501\n",
      "\n"
     ]
    }
   ],
   "source": [
    "#display results with a confusion matrix \n",
    "y_pred = cross_val_predict( clf, data_X, data_y, cv = 10)\n",
    "y_pred\n",
    "\n",
    "print('Confusion Matrix:\\n', confusion_matrix(data_y , y_pred),'\\n')\n",
    "print(\"Classification Report:\\n\\n\", classification_report(data_y, y_pred))"
   ]
  },
  {
   "cell_type": "markdown",
   "metadata": {},
   "source": [
    "### Single-Layer Neural Network Classifier"
   ]
  },
  {
   "cell_type": "code",
   "execution_count": 7,
   "metadata": {},
   "outputs": [],
   "source": [
    "#we will test 50, 75, and 100 nodes in each layer\n",
    "layers = [ (50,), (75,), (100,)]"
   ]
  },
  {
   "cell_type": "code",
   "execution_count": 9,
   "metadata": {},
   "outputs": [
    {
     "name": "stdout",
     "output_type": "stream",
     "text": [
      "Average Accuracy: 0.9996646194179823\n"
     ]
    }
   ],
   "source": [
    "scaler = StandardScaler()\n",
    "\n",
    "#create classifier object\n",
    "mlp = MLPClassifier()\n",
    "\n",
    "#create pipeline\n",
    "pipe = Pipeline(steps = [('scaler',scaler),('MLP',mlp)])\n",
    "\n",
    "#define parameters\n",
    "param_grid = { 'MLP__hidden_layer_sizes' : layers , \n",
    "              'MLP__activation' : ['logistic','tanh', 'relu']}\n",
    "\n",
    "#create grid search object\n",
    "grid_search = GridSearchCV(pipe, param_grid, cv = 3)\n",
    "\n",
    "#calculate score\n",
    "score = cross_val_score(grid_search, data_X, data_y, cv = 3)\n",
    "\n",
    "#print results\n",
    "print('Average Accuracy:',score.mean())"
   ]
  },
  {
   "cell_type": "code",
   "execution_count": 10,
   "metadata": {},
   "outputs": [
    {
     "data": {
      "text/plain": [
       "GridSearchCV(cv=3, error_score='raise-deprecating',\n",
       "             estimator=Pipeline(memory=None,\n",
       "                                steps=[('scaler',\n",
       "                                        StandardScaler(copy=True,\n",
       "                                                       with_mean=True,\n",
       "                                                       with_std=True)),\n",
       "                                       ('MLP',\n",
       "                                        MLPClassifier(activation='relu',\n",
       "                                                      alpha=0.0001,\n",
       "                                                      batch_size='auto',\n",
       "                                                      beta_1=0.9, beta_2=0.999,\n",
       "                                                      early_stopping=False,\n",
       "                                                      epsilon=1e-08,\n",
       "                                                      hidden_layer_sizes=(100,),\n",
       "                                                      learning_rate='constant',\n",
       "                                                      learning_rate_in...\n",
       "                                                      power_t=0.5,\n",
       "                                                      random_state=None,\n",
       "                                                      shuffle=True,\n",
       "                                                      solver='adam', tol=0.0001,\n",
       "                                                      validation_fraction=0.1,\n",
       "                                                      verbose=False,\n",
       "                                                      warm_start=False))],\n",
       "                                verbose=False),\n",
       "             iid='warn', n_jobs=None,\n",
       "             param_grid={'MLP__activation': ['logistic', 'tanh', 'relu'],\n",
       "                         'MLP__hidden_layer_sizes': [(50,), (75,), (100,)]},\n",
       "             pre_dispatch='2*n_jobs', refit=True, return_train_score=False,\n",
       "             scoring=None, verbose=0)"
      ]
     },
     "execution_count": 10,
     "metadata": {},
     "output_type": "execute_result"
    }
   ],
   "source": [
    "#now that we know our average accuracy, we will fit our grid search to find the best parameters\n",
    "grid_search.fit(data_X, data_y)"
   ]
  },
  {
   "cell_type": "code",
   "execution_count": 11,
   "metadata": {},
   "outputs": [
    {
     "name": "stdout",
     "output_type": "stream",
     "text": [
      "0.9998385113228407\n",
      "{'MLP__activation': 'logistic', 'MLP__hidden_layer_sizes': (100,)}\n"
     ]
    }
   ],
   "source": [
    "#display our results from our grid search\n",
    "print(grid_search.best_score_)\n",
    "print(grid_search.best_params_)"
   ]
  },
  {
   "cell_type": "markdown",
   "metadata": {},
   "source": [
    "We now know that 100 nodes is our best layer size, and identity is our best activation function. "
   ]
  },
  {
   "cell_type": "code",
   "execution_count": 13,
   "metadata": {},
   "outputs": [
    {
     "name": "stdout",
     "output_type": "stream",
     "text": [
      "Confusion Matrix:\n",
      " [[    0  5871     0     0     0     0     0     0     0     0]\n",
      " [    0 19142     0     0     0     0     0     0     0     0]\n",
      " [    0 16668     0     0     0     0     0     0     0     0]\n",
      " [    0 11419     0     0     0     0     0     0     0     0]\n",
      " [    0  7302     0     0     0     0     0     0     0     0]\n",
      " [    0  4677     0     0     0     0     0     0     0     0]\n",
      " [    0  3190     0     0     0     0     0     0     0     0]\n",
      " [    0  2234     0     0     0     0     0     0     0     0]\n",
      " [    0  1614     0     0     0     0     0     0     0     0]\n",
      " [    0  8384     0     0     0     0     0     0     0     0]] \n",
      "\n",
      "Classification Report:\n",
      "\n",
      "               precision    recall  f1-score   support\n",
      "\n",
      "           A       0.00      0.00      0.00      5871\n",
      "           B       0.24      1.00      0.38     19142\n",
      "           C       0.00      0.00      0.00     16668\n",
      "           D       0.00      0.00      0.00     11419\n",
      "           E       0.00      0.00      0.00      7302\n",
      "           F       0.00      0.00      0.00      4677\n",
      "           G       0.00      0.00      0.00      3190\n",
      "           H       0.00      0.00      0.00      2234\n",
      "           I       0.00      0.00      0.00      1614\n",
      "           J       0.00      0.00      0.00      8384\n",
      "\n",
      "    accuracy                           0.24     80501\n",
      "   macro avg       0.02      0.10      0.04     80501\n",
      "weighted avg       0.06      0.24      0.09     80501\n",
      "\n"
     ]
    }
   ],
   "source": [
    "#display results with a confusion matrix \n",
    "mlp = MLPClassifier( hidden_layer_sizes = (100,), activation = 'logistic')\n",
    "y_pred = cross_val_predict( mlp, data_X, data_y, cv = 5)\n",
    "y_pred\n",
    "\n",
    "print('Confusion Matrix:\\n', confusion_matrix(data_y , y_pred),'\\n')\n",
    "print(\"Classification Report:\\n\\n\", classification_report(data_y, y_pred))"
   ]
  },
  {
   "cell_type": "markdown",
   "metadata": {},
   "source": [
    "# Results:\n",
    "\n",
    "### 1. Naive Bayes\n",
    "With Naive Bayes, we have a low accuracy, but the model may perform better than a one-layer neural network.\n",
    "Class 'B' has a high recall but low percision. The other classes had a low recall and also a low percision. We can conclude that this model is not accurate enough.\n",
    "\n",
    "\n",
    "### 2. Neural Network (one layer)\n",
    "We first see that we have an accuracy of 99% for our MLP classifier. When looking more closely, we see that all of the \"B\" class is getting classified correctly. However, it seems that everything else is getting classified as B as well.\n",
    "\n",
    "This would not be a good model to use, because every ride will be classified the same, which will result in many errors for more expensive rides. In a real application, people may have their fare predicted at a class 'B' price, but later be charged a much higher fare which would not be good for the company.\n",
    "\n",
    "\n",
    "Below we can see that 'B' is the most common class label in our data set, but class label 'C' is not far behind. In our Neural Net, label 'C' had 0.00 recall and 0.00 precision, but in Naive Bayes, class label 'C' looked better with 0.54 precision and 0.68 recall. \n",
    "\n",
    "While there is a class imbalance, the difference in value counts for the classes are not drastic enough to overlook the low precision. \n",
    "\n",
    "Overall, these two classifiers are not accurate enough to practically use to predict fare values.\n"
   ]
  },
  {
   "cell_type": "code",
   "execution_count": 37,
   "metadata": {},
   "outputs": [
    {
     "data": {
      "text/plain": [
       "<matplotlib.axes._subplots.AxesSubplot at 0x1a28e86f90>"
      ]
     },
     "execution_count": 37,
     "metadata": {},
     "output_type": "execute_result"
    },
    {
     "data": {
      "image/png": "[encoded data removed]",
      "text/plain": [
       "<Figure size 432x288 with 1 Axes>"
      ]
     },
     "metadata": {
      "needs_background": "light"
     },
     "output_type": "display_data"
    }
   ],
   "source": [
    "#display frequency of different classes\n",
    "data_classes = data['label'].value_counts()\n",
    "data_classes.plot( kind='bar')"
   ]
  },
  {
   "cell_type": "markdown",
   "metadata": {},
   "source": []
  }
 ],
 "metadata": {
  "kernelspec": {
   "display_name": "Python 3",
   "language": "python",
   "name": "python3"
  },
  "language_info": {
   "codemirror_mode": {
    "name": "ipython",
    "version": 3
   },
   "file_extension": ".py",
   "mimetype": "text/x-python",
   "name": "python",
   "nbconvert_exporter": "python",
   "pygments_lexer": "ipython3",
   "version": "3.7.4"
  }
 },
 "nbformat": 4,
 "nbformat_minor": 2
}
