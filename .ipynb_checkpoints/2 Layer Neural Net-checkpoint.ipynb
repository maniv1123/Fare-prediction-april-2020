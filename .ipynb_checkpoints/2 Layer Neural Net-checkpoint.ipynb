{
 "cells": [
  {
   "cell_type": "markdown",
   "metadata": {},
   "source": [
    "# 2-Layer Neural Network\n",
    "\n",
    "In a separate notebook, we tested our data on a single-layer neural network. Here we will try to fit it on a 2 layer network to hopefully achieve better results."
   ]
  },
  {
   "cell_type": "code",
   "execution_count": 1,
   "metadata": {},
   "outputs": [],
   "source": [
    "import pandas as pd\n",
    "from datetime import datetime, timedelta"
   ]
  },
  {
   "cell_type": "markdown",
   "metadata": {},
   "source": [
    "Read in csv"
   ]
  },
  {
   "cell_type": "code",
   "execution_count": 2,
   "metadata": {},
   "outputs": [],
   "source": [
    "taxi = pd.read_csv(\"taxi_clean_lg.csv\")"
   ]
  },
  {
   "cell_type": "markdown",
   "metadata": {},
   "source": [
    "Change pick up/ dropoff times from strings to datetimes"
   ]
  },
  {
   "cell_type": "code",
   "execution_count": 3,
   "metadata": {},
   "outputs": [],
   "source": [
    "import time\n",
    "taxi['pickup_datetime'] = pd.to_datetime(taxi[\"pickup_datetime\"])\n",
    "taxi['dropoff_datetime'] = pd.to_datetime(taxi[\"dropoff_datetime\"])"
   ]
  },
  {
   "cell_type": "markdown",
   "metadata": {},
   "source": [
    "Change ride_duration from strings to minutes"
   ]
  },
  {
   "cell_type": "code",
   "execution_count": 4,
   "metadata": {},
   "outputs": [],
   "source": [
    "taxi['ride_duration (min)'] = taxi['ride_duration'].apply(lambda time : \n",
    "                                                    datetime.strptime(time.split()[2].split('.')[0],\"%H:%M:%S\").minute \n",
    "                                                    + datetime.strptime(time.split()[2].split('.')[0],\"%H:%M:%S\").hour*60)"
   ]
  },
  {
   "cell_type": "markdown",
   "metadata": {},
   "source": [
    "Divide into features and labels"
   ]
  },
  {
   "cell_type": "code",
   "execution_count": 5,
   "metadata": {},
   "outputs": [
    {
     "data": {
      "text/plain": [
       "Index(['trip_distance', 'fare_amount', 'winter', 'spring', 'summer', 'fall',\n",
       "       'PULongitude', 'PULatitude', 'DOLongitude', 'DOLatitude',\n",
       "       'pickup_datetime', 'dropoff_datetime', 'ride_duration', 'Early morning',\n",
       "       'Morning', 'Afternoon', 'Night', 'Holiday Proximity', 'label',\n",
       "       'ride_duration (min)'],\n",
       "      dtype='object')"
      ]
     },
     "execution_count": 5,
     "metadata": {},
     "output_type": "execute_result"
    }
   ],
   "source": [
    "taxi.columns"
   ]
  },
  {
   "cell_type": "code",
   "execution_count": 6,
   "metadata": {},
   "outputs": [],
   "source": [
    "X = taxi[['trip_distance', 'winter', 'spring', 'summer', 'fall','PULongitude', 'PULatitude', 'DOLongitude', \n",
    "          'DOLatitude', 'ride_duration (min)', 'Early morning','Morning', 'Afternoon', 'Night', 'Holiday Proximity']]"
   ]
  },
  {
   "cell_type": "code",
   "execution_count": 11,
   "metadata": {},
   "outputs": [],
   "source": [
    "y = taxi['label']"
   ]
  },
  {
   "cell_type": "markdown",
   "metadata": {},
   "source": [
    "Begin the cross validation process to determine optimum activation function and width of both hidden layers"
   ]
  },
  {
   "cell_type": "code",
   "execution_count": 13,
   "metadata": {},
   "outputs": [],
   "source": [
    "from sklearn.neural_network import MLPClassifier"
   ]
  },
  {
   "cell_type": "code",
   "execution_count": 65,
   "metadata": {
    "scrolled": true
   },
   "outputs": [
    {
     "data": {
      "text/plain": [
       "[(50, 50),\n",
       " (50, 100),\n",
       " (50, 150),\n",
       " (50, 200),\n",
       " (100, 50),\n",
       " (100, 100),\n",
       " (100, 150),\n",
       " (100, 200),\n",
       " (150, 50),\n",
       " (150, 100),\n",
       " (150, 150),\n",
       " (150, 200),\n",
       " (200, 50),\n",
       " (200, 100),\n",
       " (200, 150),\n",
       " (200, 200)]"
      ]
     },
     "execution_count": 65,
     "metadata": {},
     "output_type": "execute_result"
    }
   ],
   "source": [
    "from sklearn.pipeline import Pipeline\n",
    "from sklearn.model_selection import GridSearchCV\n",
    "from sklearn.preprocessing import StandardScaler\n",
    "\n",
    "layers = []\n",
    "sizes = list(range(50,201,50))\n",
    "for width1 in sizes:\n",
    "  for width2 in sizes:\n",
    "    layers.append((width1, width2))\n",
    "layers"
   ]
  },
  {
   "cell_type": "code",
   "execution_count": 66,
   "metadata": {},
   "outputs": [
    {
     "name": "stdout",
     "output_type": "stream",
     "text": [
      "Fitting 3 folds for each of 64 candidates, totalling 192 fits\n",
      "[CV] MLPClassifier__activation=logistic, MLPClassifier__hidden_layer_sizes=(50, 50) \n"
     ]
    },
    {
     "name": "stderr",
     "output_type": "stream",
     "text": [
      "[Parallel(n_jobs=1)]: Using backend SequentialBackend with 1 concurrent workers.\n"
     ]
    },
    {
     "name": "stdout",
     "output_type": "stream",
     "text": [
      "[CV]  MLPClassifier__activation=logistic, MLPClassifier__hidden_layer_sizes=(50, 50), total=   6.9s\n",
      "[CV] MLPClassifier__activation=logistic, MLPClassifier__hidden_layer_sizes=(50, 50) \n"
     ]
    },
    {
     "name": "stderr",
     "output_type": "stream",
     "text": [
      "[Parallel(n_jobs=1)]: Done   1 out of   1 | elapsed:    6.8s remaining:    0.0s\n"
     ]
    },
    {
     "name": "stdout",
     "output_type": "stream",
     "text": [
      "[CV]  MLPClassifier__activation=logistic, MLPClassifier__hidden_layer_sizes=(50, 50), total=   4.9s\n",
      "[CV] MLPClassifier__activation=logistic, MLPClassifier__hidden_layer_sizes=(50, 50) \n",
      "[CV]  MLPClassifier__activation=logistic, MLPClassifier__hidden_layer_sizes=(50, 50), total=   5.8s\n",
      "[CV] MLPClassifier__activation=logistic, MLPClassifier__hidden_layer_sizes=(50, 100) \n",
      "[CV]  MLPClassifier__activation=logistic, MLPClassifier__hidden_layer_sizes=(50, 100), total=   7.3s\n",
      "[CV] MLPClassifier__activation=logistic, MLPClassifier__hidden_layer_sizes=(50, 100) \n",
      "[CV]  MLPClassifier__activation=logistic, MLPClassifier__hidden_layer_sizes=(50, 100), total=   9.3s\n",
      "[CV] MLPClassifier__activation=logistic, MLPClassifier__hidden_layer_sizes=(50, 100) \n",
      "[CV]  MLPClassifier__activation=logistic, MLPClassifier__hidden_layer_sizes=(50, 100), total=   9.3s\n",
      "[CV] MLPClassifier__activation=logistic, MLPClassifier__hidden_layer_sizes=(50, 150) \n",
      "[CV]  MLPClassifier__activation=logistic, MLPClassifier__hidden_layer_sizes=(50, 150), total=  10.7s\n",
      "[CV] MLPClassifier__activation=logistic, MLPClassifier__hidden_layer_sizes=(50, 150) \n",
      "[CV]  MLPClassifier__activation=logistic, MLPClassifier__hidden_layer_sizes=(50, 150), total=  15.7s\n",
      "[CV] MLPClassifier__activation=logistic, MLPClassifier__hidden_layer_sizes=(50, 150) \n",
      "[CV]  MLPClassifier__activation=logistic, MLPClassifier__hidden_layer_sizes=(50, 150), total=  22.7s\n",
      "[CV] MLPClassifier__activation=logistic, MLPClassifier__hidden_layer_sizes=(50, 200) \n",
      "[CV]  MLPClassifier__activation=logistic, MLPClassifier__hidden_layer_sizes=(50, 200), total=  16.6s\n",
      "[CV] MLPClassifier__activation=logistic, MLPClassifier__hidden_layer_sizes=(50, 200) \n",
      "[CV]  MLPClassifier__activation=logistic, MLPClassifier__hidden_layer_sizes=(50, 200), total=  19.2s\n",
      "[CV] MLPClassifier__activation=logistic, MLPClassifier__hidden_layer_sizes=(50, 200) \n",
      "[CV]  MLPClassifier__activation=logistic, MLPClassifier__hidden_layer_sizes=(50, 200), total=  12.6s\n",
      "[CV] MLPClassifier__activation=logistic, MLPClassifier__hidden_layer_sizes=(100, 50) \n",
      "[CV]  MLPClassifier__activation=logistic, MLPClassifier__hidden_layer_sizes=(100, 50), total=  11.1s\n",
      "[CV] MLPClassifier__activation=logistic, MLPClassifier__hidden_layer_sizes=(100, 50) \n",
      "[CV]  MLPClassifier__activation=logistic, MLPClassifier__hidden_layer_sizes=(100, 50), total=  28.1s\n",
      "[CV] MLPClassifier__activation=logistic, MLPClassifier__hidden_layer_sizes=(100, 50) \n",
      "[CV]  MLPClassifier__activation=logistic, MLPClassifier__hidden_layer_sizes=(100, 50), total=   9.2s\n",
      "[CV] MLPClassifier__activation=logistic, MLPClassifier__hidden_layer_sizes=(100, 100) \n",
      "[CV]  MLPClassifier__activation=logistic, MLPClassifier__hidden_layer_sizes=(100, 100), total=  11.7s\n",
      "[CV] MLPClassifier__activation=logistic, MLPClassifier__hidden_layer_sizes=(100, 100) \n",
      "[CV]  MLPClassifier__activation=logistic, MLPClassifier__hidden_layer_sizes=(100, 100), total=  11.7s\n",
      "[CV] MLPClassifier__activation=logistic, MLPClassifier__hidden_layer_sizes=(100, 100) \n",
      "[CV]  MLPClassifier__activation=logistic, MLPClassifier__hidden_layer_sizes=(100, 100), total=  21.3s\n",
      "[CV] MLPClassifier__activation=logistic, MLPClassifier__hidden_layer_sizes=(100, 150) \n",
      "[CV]  MLPClassifier__activation=logistic, MLPClassifier__hidden_layer_sizes=(100, 150), total=  38.9s\n",
      "[CV] MLPClassifier__activation=logistic, MLPClassifier__hidden_layer_sizes=(100, 150) \n",
      "[CV]  MLPClassifier__activation=logistic, MLPClassifier__hidden_layer_sizes=(100, 150), total=  14.9s\n",
      "[CV] MLPClassifier__activation=logistic, MLPClassifier__hidden_layer_sizes=(100, 150) \n",
      "[CV]  MLPClassifier__activation=logistic, MLPClassifier__hidden_layer_sizes=(100, 150), total=  44.6s\n",
      "[CV] MLPClassifier__activation=logistic, MLPClassifier__hidden_layer_sizes=(100, 200) \n",
      "[CV]  MLPClassifier__activation=logistic, MLPClassifier__hidden_layer_sizes=(100, 200), total=  19.0s\n",
      "[CV] MLPClassifier__activation=logistic, MLPClassifier__hidden_layer_sizes=(100, 200) \n",
      "[CV]  MLPClassifier__activation=logistic, MLPClassifier__hidden_layer_sizes=(100, 200), total=  15.7s\n",
      "[CV] MLPClassifier__activation=logistic, MLPClassifier__hidden_layer_sizes=(100, 200) \n",
      "[CV]  MLPClassifier__activation=logistic, MLPClassifier__hidden_layer_sizes=(100, 200), total=  23.4s\n",
      "[CV] MLPClassifier__activation=logistic, MLPClassifier__hidden_layer_sizes=(150, 50) \n",
      "[CV]  MLPClassifier__activation=logistic, MLPClassifier__hidden_layer_sizes=(150, 50), total=   9.5s\n",
      "[CV] MLPClassifier__activation=logistic, MLPClassifier__hidden_layer_sizes=(150, 50) \n",
      "[CV]  MLPClassifier__activation=logistic, MLPClassifier__hidden_layer_sizes=(150, 50), total=  12.0s\n",
      "[CV] MLPClassifier__activation=logistic, MLPClassifier__hidden_layer_sizes=(150, 50) \n",
      "[CV]  MLPClassifier__activation=logistic, MLPClassifier__hidden_layer_sizes=(150, 50), total=  16.6s\n",
      "[CV] MLPClassifier__activation=logistic, MLPClassifier__hidden_layer_sizes=(150, 100) \n",
      "[CV]  MLPClassifier__activation=logistic, MLPClassifier__hidden_layer_sizes=(150, 100), total=  18.9s\n",
      "[CV] MLPClassifier__activation=logistic, MLPClassifier__hidden_layer_sizes=(150, 100) \n",
      "[CV]  MLPClassifier__activation=logistic, MLPClassifier__hidden_layer_sizes=(150, 100), total=  18.1s\n",
      "[CV] MLPClassifier__activation=logistic, MLPClassifier__hidden_layer_sizes=(150, 100) \n",
      "[CV]  MLPClassifier__activation=logistic, MLPClassifier__hidden_layer_sizes=(150, 100), total=  14.2s\n",
      "[CV] MLPClassifier__activation=logistic, MLPClassifier__hidden_layer_sizes=(150, 150) \n",
      "[CV]  MLPClassifier__activation=logistic, MLPClassifier__hidden_layer_sizes=(150, 150), total=  49.9s\n",
      "[CV] MLPClassifier__activation=logistic, MLPClassifier__hidden_layer_sizes=(150, 150) \n",
      "[CV]  MLPClassifier__activation=logistic, MLPClassifier__hidden_layer_sizes=(150, 150), total=  26.8s\n",
      "[CV] MLPClassifier__activation=logistic, MLPClassifier__hidden_layer_sizes=(150, 150) \n",
      "[CV]  MLPClassifier__activation=logistic, MLPClassifier__hidden_layer_sizes=(150, 150), total=  16.1s\n",
      "[CV] MLPClassifier__activation=logistic, MLPClassifier__hidden_layer_sizes=(150, 200) \n",
      "[CV]  MLPClassifier__activation=logistic, MLPClassifier__hidden_layer_sizes=(150, 200), total=  39.2s\n",
      "[CV] MLPClassifier__activation=logistic, MLPClassifier__hidden_layer_sizes=(150, 200) \n",
      "[CV]  MLPClassifier__activation=logistic, MLPClassifier__hidden_layer_sizes=(150, 200), total=  56.7s\n",
      "[CV] MLPClassifier__activation=logistic, MLPClassifier__hidden_layer_sizes=(150, 200) \n",
      "[CV]  MLPClassifier__activation=logistic, MLPClassifier__hidden_layer_sizes=(150, 200), total=  29.2s\n",
      "[CV] MLPClassifier__activation=logistic, MLPClassifier__hidden_layer_sizes=(200, 50) \n",
      "[CV]  MLPClassifier__activation=logistic, MLPClassifier__hidden_layer_sizes=(200, 50), total=  21.7s\n",
      "[CV] MLPClassifier__activation=logistic, MLPClassifier__hidden_layer_sizes=(200, 50) \n",
      "[CV]  MLPClassifier__activation=logistic, MLPClassifier__hidden_layer_sizes=(200, 50), total=  31.2s\n",
      "[CV] MLPClassifier__activation=logistic, MLPClassifier__hidden_layer_sizes=(200, 50) \n",
      "[CV]  MLPClassifier__activation=logistic, MLPClassifier__hidden_layer_sizes=(200, 50), total=  14.2s\n",
      "[CV] MLPClassifier__activation=logistic, MLPClassifier__hidden_layer_sizes=(200, 100) \n",
      "[CV]  MLPClassifier__activation=logistic, MLPClassifier__hidden_layer_sizes=(200, 100), total=  13.0s\n",
      "[CV] MLPClassifier__activation=logistic, MLPClassifier__hidden_layer_sizes=(200, 100) \n",
      "[CV]  MLPClassifier__activation=logistic, MLPClassifier__hidden_layer_sizes=(200, 100), total=  13.1s\n",
      "[CV] MLPClassifier__activation=logistic, MLPClassifier__hidden_layer_sizes=(200, 100) \n",
      "[CV]  MLPClassifier__activation=logistic, MLPClassifier__hidden_layer_sizes=(200, 100), total=  22.6s\n",
      "[CV] MLPClassifier__activation=logistic, MLPClassifier__hidden_layer_sizes=(200, 150) \n",
      "[CV]  MLPClassifier__activation=logistic, MLPClassifier__hidden_layer_sizes=(200, 150), total=  36.6s\n",
      "[CV] MLPClassifier__activation=logistic, MLPClassifier__hidden_layer_sizes=(200, 150) \n",
      "[CV]  MLPClassifier__activation=logistic, MLPClassifier__hidden_layer_sizes=(200, 150), total=  16.6s\n",
      "[CV] MLPClassifier__activation=logistic, MLPClassifier__hidden_layer_sizes=(200, 150) \n",
      "[CV]  MLPClassifier__activation=logistic, MLPClassifier__hidden_layer_sizes=(200, 150), total= 1.1min\n",
      "[CV] MLPClassifier__activation=logistic, MLPClassifier__hidden_layer_sizes=(200, 200) \n"
     ]
    },
    {
     "name": "stdout",
     "output_type": "stream",
     "text": [
      "[CV]  MLPClassifier__activation=logistic, MLPClassifier__hidden_layer_sizes=(200, 200), total=  23.8s\n",
      "[CV] MLPClassifier__activation=logistic, MLPClassifier__hidden_layer_sizes=(200, 200) \n",
      "[CV]  MLPClassifier__activation=logistic, MLPClassifier__hidden_layer_sizes=(200, 200), total=  25.6s\n",
      "[CV] MLPClassifier__activation=logistic, MLPClassifier__hidden_layer_sizes=(200, 200) \n",
      "[CV]  MLPClassifier__activation=logistic, MLPClassifier__hidden_layer_sizes=(200, 200), total=  20.5s\n",
      "[CV] MLPClassifier__activation=tanh, MLPClassifier__hidden_layer_sizes=(50, 50) \n",
      "[CV]  MLPClassifier__activation=tanh, MLPClassifier__hidden_layer_sizes=(50, 50), total=  12.8s\n",
      "[CV] MLPClassifier__activation=tanh, MLPClassifier__hidden_layer_sizes=(50, 50) \n",
      "[CV]  MLPClassifier__activation=tanh, MLPClassifier__hidden_layer_sizes=(50, 50), total=  12.6s\n",
      "[CV] MLPClassifier__activation=tanh, MLPClassifier__hidden_layer_sizes=(50, 50) \n",
      "[CV]  MLPClassifier__activation=tanh, MLPClassifier__hidden_layer_sizes=(50, 50), total=  11.8s\n",
      "[CV] MLPClassifier__activation=tanh, MLPClassifier__hidden_layer_sizes=(50, 100) \n",
      "[CV]  MLPClassifier__activation=tanh, MLPClassifier__hidden_layer_sizes=(50, 100), total=  14.9s\n",
      "[CV] MLPClassifier__activation=tanh, MLPClassifier__hidden_layer_sizes=(50, 100) \n",
      "[CV]  MLPClassifier__activation=tanh, MLPClassifier__hidden_layer_sizes=(50, 100), total=  14.9s\n",
      "[CV] MLPClassifier__activation=tanh, MLPClassifier__hidden_layer_sizes=(50, 100) \n",
      "[CV]  MLPClassifier__activation=tanh, MLPClassifier__hidden_layer_sizes=(50, 100), total=  19.1s\n",
      "[CV] MLPClassifier__activation=tanh, MLPClassifier__hidden_layer_sizes=(50, 150) \n",
      "[CV]  MLPClassifier__activation=tanh, MLPClassifier__hidden_layer_sizes=(50, 150), total=  12.7s\n",
      "[CV] MLPClassifier__activation=tanh, MLPClassifier__hidden_layer_sizes=(50, 150) \n",
      "[CV]  MLPClassifier__activation=tanh, MLPClassifier__hidden_layer_sizes=(50, 150), total=  25.1s\n",
      "[CV] MLPClassifier__activation=tanh, MLPClassifier__hidden_layer_sizes=(50, 150) \n",
      "[CV]  MLPClassifier__activation=tanh, MLPClassifier__hidden_layer_sizes=(50, 150), total=  19.3s\n",
      "[CV] MLPClassifier__activation=tanh, MLPClassifier__hidden_layer_sizes=(50, 200) \n",
      "[CV]  MLPClassifier__activation=tanh, MLPClassifier__hidden_layer_sizes=(50, 200), total=  16.7s\n",
      "[CV] MLPClassifier__activation=tanh, MLPClassifier__hidden_layer_sizes=(50, 200) \n",
      "[CV]  MLPClassifier__activation=tanh, MLPClassifier__hidden_layer_sizes=(50, 200), total=  18.4s\n",
      "[CV] MLPClassifier__activation=tanh, MLPClassifier__hidden_layer_sizes=(50, 200) \n",
      "[CV]  MLPClassifier__activation=tanh, MLPClassifier__hidden_layer_sizes=(50, 200), total=  11.6s\n",
      "[CV] MLPClassifier__activation=tanh, MLPClassifier__hidden_layer_sizes=(100, 50) \n",
      "[CV]  MLPClassifier__activation=tanh, MLPClassifier__hidden_layer_sizes=(100, 50), total=  13.8s\n",
      "[CV] MLPClassifier__activation=tanh, MLPClassifier__hidden_layer_sizes=(100, 50) \n",
      "[CV]  MLPClassifier__activation=tanh, MLPClassifier__hidden_layer_sizes=(100, 50), total=  12.9s\n",
      "[CV] MLPClassifier__activation=tanh, MLPClassifier__hidden_layer_sizes=(100, 50) \n",
      "[CV]  MLPClassifier__activation=tanh, MLPClassifier__hidden_layer_sizes=(100, 50), total=  12.8s\n",
      "[CV] MLPClassifier__activation=tanh, MLPClassifier__hidden_layer_sizes=(100, 100) \n",
      "[CV]  MLPClassifier__activation=tanh, MLPClassifier__hidden_layer_sizes=(100, 100), total=  19.9s\n",
      "[CV] MLPClassifier__activation=tanh, MLPClassifier__hidden_layer_sizes=(100, 100) \n",
      "[CV]  MLPClassifier__activation=tanh, MLPClassifier__hidden_layer_sizes=(100, 100), total=  17.0s\n",
      "[CV] MLPClassifier__activation=tanh, MLPClassifier__hidden_layer_sizes=(100, 100) \n",
      "[CV]  MLPClassifier__activation=tanh, MLPClassifier__hidden_layer_sizes=(100, 100), total=  14.9s\n",
      "[CV] MLPClassifier__activation=tanh, MLPClassifier__hidden_layer_sizes=(100, 150) \n",
      "[CV]  MLPClassifier__activation=tanh, MLPClassifier__hidden_layer_sizes=(100, 150), total=  20.7s\n",
      "[CV] MLPClassifier__activation=tanh, MLPClassifier__hidden_layer_sizes=(100, 150) \n",
      "[CV]  MLPClassifier__activation=tanh, MLPClassifier__hidden_layer_sizes=(100, 150), total=  19.0s\n",
      "[CV] MLPClassifier__activation=tanh, MLPClassifier__hidden_layer_sizes=(100, 150) \n",
      "[CV]  MLPClassifier__activation=tanh, MLPClassifier__hidden_layer_sizes=(100, 150), total=  12.0s\n",
      "[CV] MLPClassifier__activation=tanh, MLPClassifier__hidden_layer_sizes=(100, 200) \n",
      "[CV]  MLPClassifier__activation=tanh, MLPClassifier__hidden_layer_sizes=(100, 200), total=  24.5s\n",
      "[CV] MLPClassifier__activation=tanh, MLPClassifier__hidden_layer_sizes=(100, 200) \n",
      "[CV]  MLPClassifier__activation=tanh, MLPClassifier__hidden_layer_sizes=(100, 200), total=  28.3s\n",
      "[CV] MLPClassifier__activation=tanh, MLPClassifier__hidden_layer_sizes=(100, 200) \n",
      "[CV]  MLPClassifier__activation=tanh, MLPClassifier__hidden_layer_sizes=(100, 200), total=  23.1s\n",
      "[CV] MLPClassifier__activation=tanh, MLPClassifier__hidden_layer_sizes=(150, 50) \n",
      "[CV]  MLPClassifier__activation=tanh, MLPClassifier__hidden_layer_sizes=(150, 50), total=  15.5s\n",
      "[CV] MLPClassifier__activation=tanh, MLPClassifier__hidden_layer_sizes=(150, 50) \n",
      "[CV]  MLPClassifier__activation=tanh, MLPClassifier__hidden_layer_sizes=(150, 50), total=  12.6s\n",
      "[CV] MLPClassifier__activation=tanh, MLPClassifier__hidden_layer_sizes=(150, 50) \n",
      "[CV]  MLPClassifier__activation=tanh, MLPClassifier__hidden_layer_sizes=(150, 50), total=  13.2s\n",
      "[CV] MLPClassifier__activation=tanh, MLPClassifier__hidden_layer_sizes=(150, 100) \n",
      "[CV]  MLPClassifier__activation=tanh, MLPClassifier__hidden_layer_sizes=(150, 100), total=  20.6s\n",
      "[CV] MLPClassifier__activation=tanh, MLPClassifier__hidden_layer_sizes=(150, 100) \n",
      "[CV]  MLPClassifier__activation=tanh, MLPClassifier__hidden_layer_sizes=(150, 100), total=  18.1s\n",
      "[CV] MLPClassifier__activation=tanh, MLPClassifier__hidden_layer_sizes=(150, 100) \n",
      "[CV]  MLPClassifier__activation=tanh, MLPClassifier__hidden_layer_sizes=(150, 100), total=  22.3s\n",
      "[CV] MLPClassifier__activation=tanh, MLPClassifier__hidden_layer_sizes=(150, 150) \n",
      "[CV]  MLPClassifier__activation=tanh, MLPClassifier__hidden_layer_sizes=(150, 150), total=  16.9s\n",
      "[CV] MLPClassifier__activation=tanh, MLPClassifier__hidden_layer_sizes=(150, 150) \n",
      "[CV]  MLPClassifier__activation=tanh, MLPClassifier__hidden_layer_sizes=(150, 150), total=  28.5s\n",
      "[CV] MLPClassifier__activation=tanh, MLPClassifier__hidden_layer_sizes=(150, 150) \n",
      "[CV]  MLPClassifier__activation=tanh, MLPClassifier__hidden_layer_sizes=(150, 150), total=  10.2s\n",
      "[CV] MLPClassifier__activation=tanh, MLPClassifier__hidden_layer_sizes=(150, 200) \n",
      "[CV]  MLPClassifier__activation=tanh, MLPClassifier__hidden_layer_sizes=(150, 200), total=  23.7s\n",
      "[CV] MLPClassifier__activation=tanh, MLPClassifier__hidden_layer_sizes=(150, 200) \n",
      "[CV]  MLPClassifier__activation=tanh, MLPClassifier__hidden_layer_sizes=(150, 200), total=  28.4s\n",
      "[CV] MLPClassifier__activation=tanh, MLPClassifier__hidden_layer_sizes=(150, 200) \n",
      "[CV]  MLPClassifier__activation=tanh, MLPClassifier__hidden_layer_sizes=(150, 200), total=  29.9s\n",
      "[CV] MLPClassifier__activation=tanh, MLPClassifier__hidden_layer_sizes=(200, 50) \n",
      "[CV]  MLPClassifier__activation=tanh, MLPClassifier__hidden_layer_sizes=(200, 50), total=  17.3s\n",
      "[CV] MLPClassifier__activation=tanh, MLPClassifier__hidden_layer_sizes=(200, 50) \n",
      "[CV]  MLPClassifier__activation=tanh, MLPClassifier__hidden_layer_sizes=(200, 50), total=  14.5s\n",
      "[CV] MLPClassifier__activation=tanh, MLPClassifier__hidden_layer_sizes=(200, 50) \n",
      "[CV]  MLPClassifier__activation=tanh, MLPClassifier__hidden_layer_sizes=(200, 50), total=  14.1s\n",
      "[CV] MLPClassifier__activation=tanh, MLPClassifier__hidden_layer_sizes=(200, 100) \n",
      "[CV]  MLPClassifier__activation=tanh, MLPClassifier__hidden_layer_sizes=(200, 100), total=  33.1s\n",
      "[CV] MLPClassifier__activation=tanh, MLPClassifier__hidden_layer_sizes=(200, 100) \n",
      "[CV]  MLPClassifier__activation=tanh, MLPClassifier__hidden_layer_sizes=(200, 100), total=20.5min\n",
      "[CV] MLPClassifier__activation=tanh, MLPClassifier__hidden_layer_sizes=(200, 100) \n",
      "[CV]  MLPClassifier__activation=tanh, MLPClassifier__hidden_layer_sizes=(200, 100), total=  12.6s\n",
      "[CV] MLPClassifier__activation=tanh, MLPClassifier__hidden_layer_sizes=(200, 150) \n",
      "[CV]  MLPClassifier__activation=tanh, MLPClassifier__hidden_layer_sizes=(200, 150), total=  22.4s\n",
      "[CV] MLPClassifier__activation=tanh, MLPClassifier__hidden_layer_sizes=(200, 150) \n"
     ]
    },
    {
     "name": "stdout",
     "output_type": "stream",
     "text": [
      "[CV]  MLPClassifier__activation=tanh, MLPClassifier__hidden_layer_sizes=(200, 150), total=  15.9s\n",
      "[CV] MLPClassifier__activation=tanh, MLPClassifier__hidden_layer_sizes=(200, 150) \n",
      "[CV]  MLPClassifier__activation=tanh, MLPClassifier__hidden_layer_sizes=(200, 150), total=  21.3s\n",
      "[CV] MLPClassifier__activation=tanh, MLPClassifier__hidden_layer_sizes=(200, 200) \n",
      "[CV]  MLPClassifier__activation=tanh, MLPClassifier__hidden_layer_sizes=(200, 200), total=  31.3s\n",
      "[CV] MLPClassifier__activation=tanh, MLPClassifier__hidden_layer_sizes=(200, 200) \n",
      "[CV]  MLPClassifier__activation=tanh, MLPClassifier__hidden_layer_sizes=(200, 200), total=  22.2s\n",
      "[CV] MLPClassifier__activation=tanh, MLPClassifier__hidden_layer_sizes=(200, 200) \n",
      "[CV]  MLPClassifier__activation=tanh, MLPClassifier__hidden_layer_sizes=(200, 200), total=  23.9s\n",
      "[CV] MLPClassifier__activation=relu, MLPClassifier__hidden_layer_sizes=(50, 50) \n",
      "[CV]  MLPClassifier__activation=relu, MLPClassifier__hidden_layer_sizes=(50, 50), total=  14.5s\n",
      "[CV] MLPClassifier__activation=relu, MLPClassifier__hidden_layer_sizes=(50, 50) \n",
      "[CV]  MLPClassifier__activation=relu, MLPClassifier__hidden_layer_sizes=(50, 50), total=  10.1s\n",
      "[CV] MLPClassifier__activation=relu, MLPClassifier__hidden_layer_sizes=(50, 50) \n",
      "[CV]  MLPClassifier__activation=relu, MLPClassifier__hidden_layer_sizes=(50, 50), total=  10.4s\n",
      "[CV] MLPClassifier__activation=relu, MLPClassifier__hidden_layer_sizes=(50, 100) \n",
      "[CV]  MLPClassifier__activation=relu, MLPClassifier__hidden_layer_sizes=(50, 100), total=  11.9s\n",
      "[CV] MLPClassifier__activation=relu, MLPClassifier__hidden_layer_sizes=(50, 100) \n",
      "[CV]  MLPClassifier__activation=relu, MLPClassifier__hidden_layer_sizes=(50, 100), total=  12.0s\n",
      "[CV] MLPClassifier__activation=relu, MLPClassifier__hidden_layer_sizes=(50, 100) \n",
      "[CV]  MLPClassifier__activation=relu, MLPClassifier__hidden_layer_sizes=(50, 100), total=  13.3s\n",
      "[CV] MLPClassifier__activation=relu, MLPClassifier__hidden_layer_sizes=(50, 150) \n",
      "[CV]  MLPClassifier__activation=relu, MLPClassifier__hidden_layer_sizes=(50, 150), total=  15.5s\n",
      "[CV] MLPClassifier__activation=relu, MLPClassifier__hidden_layer_sizes=(50, 150) \n",
      "[CV]  MLPClassifier__activation=relu, MLPClassifier__hidden_layer_sizes=(50, 150), total=  17.1s\n",
      "[CV] MLPClassifier__activation=relu, MLPClassifier__hidden_layer_sizes=(50, 150) \n",
      "[CV]  MLPClassifier__activation=relu, MLPClassifier__hidden_layer_sizes=(50, 150), total=  24.8s\n",
      "[CV] MLPClassifier__activation=relu, MLPClassifier__hidden_layer_sizes=(50, 200) \n",
      "[CV]  MLPClassifier__activation=relu, MLPClassifier__hidden_layer_sizes=(50, 200), total=  15.3s\n",
      "[CV] MLPClassifier__activation=relu, MLPClassifier__hidden_layer_sizes=(50, 200) \n",
      "[CV]  MLPClassifier__activation=relu, MLPClassifier__hidden_layer_sizes=(50, 200), total=  16.5s\n",
      "[CV] MLPClassifier__activation=relu, MLPClassifier__hidden_layer_sizes=(50, 200) \n",
      "[CV]  MLPClassifier__activation=relu, MLPClassifier__hidden_layer_sizes=(50, 200), total=  18.7s\n",
      "[CV] MLPClassifier__activation=relu, MLPClassifier__hidden_layer_sizes=(100, 50) \n",
      "[CV]  MLPClassifier__activation=relu, MLPClassifier__hidden_layer_sizes=(100, 50), total=  11.4s\n",
      "[CV] MLPClassifier__activation=relu, MLPClassifier__hidden_layer_sizes=(100, 50) \n",
      "[CV]  MLPClassifier__activation=relu, MLPClassifier__hidden_layer_sizes=(100, 50), total=  15.0s\n",
      "[CV] MLPClassifier__activation=relu, MLPClassifier__hidden_layer_sizes=(100, 50) \n",
      "[CV]  MLPClassifier__activation=relu, MLPClassifier__hidden_layer_sizes=(100, 50), total=  11.9s\n",
      "[CV] MLPClassifier__activation=relu, MLPClassifier__hidden_layer_sizes=(100, 100) \n",
      "[CV]  MLPClassifier__activation=relu, MLPClassifier__hidden_layer_sizes=(100, 100), total=  12.6s\n",
      "[CV] MLPClassifier__activation=relu, MLPClassifier__hidden_layer_sizes=(100, 100) \n",
      "[CV]  MLPClassifier__activation=relu, MLPClassifier__hidden_layer_sizes=(100, 100), total=  19.0s\n",
      "[CV] MLPClassifier__activation=relu, MLPClassifier__hidden_layer_sizes=(100, 100) \n",
      "[CV]  MLPClassifier__activation=relu, MLPClassifier__hidden_layer_sizes=(100, 100), total=  16.3s\n",
      "[CV] MLPClassifier__activation=relu, MLPClassifier__hidden_layer_sizes=(100, 150) \n",
      "[CV]  MLPClassifier__activation=relu, MLPClassifier__hidden_layer_sizes=(100, 150), total=  26.6s\n",
      "[CV] MLPClassifier__activation=relu, MLPClassifier__hidden_layer_sizes=(100, 150) \n",
      "[CV]  MLPClassifier__activation=relu, MLPClassifier__hidden_layer_sizes=(100, 150), total=  15.8s\n",
      "[CV] MLPClassifier__activation=relu, MLPClassifier__hidden_layer_sizes=(100, 150) \n",
      "[CV]  MLPClassifier__activation=relu, MLPClassifier__hidden_layer_sizes=(100, 150), total=  15.3s\n",
      "[CV] MLPClassifier__activation=relu, MLPClassifier__hidden_layer_sizes=(100, 200) \n",
      "[CV]  MLPClassifier__activation=relu, MLPClassifier__hidden_layer_sizes=(100, 200), total=  31.8s\n",
      "[CV] MLPClassifier__activation=relu, MLPClassifier__hidden_layer_sizes=(100, 200) \n",
      "[CV]  MLPClassifier__activation=relu, MLPClassifier__hidden_layer_sizes=(100, 200), total=  18.7s\n",
      "[CV] MLPClassifier__activation=relu, MLPClassifier__hidden_layer_sizes=(100, 200) \n",
      "[CV]  MLPClassifier__activation=relu, MLPClassifier__hidden_layer_sizes=(100, 200), total=  25.7s\n",
      "[CV] MLPClassifier__activation=relu, MLPClassifier__hidden_layer_sizes=(150, 50) \n",
      "[CV]  MLPClassifier__activation=relu, MLPClassifier__hidden_layer_sizes=(150, 50), total=  13.8s\n",
      "[CV] MLPClassifier__activation=relu, MLPClassifier__hidden_layer_sizes=(150, 50) \n",
      "[CV]  MLPClassifier__activation=relu, MLPClassifier__hidden_layer_sizes=(150, 50), total=  13.9s\n",
      "[CV] MLPClassifier__activation=relu, MLPClassifier__hidden_layer_sizes=(150, 50) \n",
      "[CV]  MLPClassifier__activation=relu, MLPClassifier__hidden_layer_sizes=(150, 50), total=  17.9s\n",
      "[CV] MLPClassifier__activation=relu, MLPClassifier__hidden_layer_sizes=(150, 100) \n",
      "[CV]  MLPClassifier__activation=relu, MLPClassifier__hidden_layer_sizes=(150, 100), total=  15.3s\n",
      "[CV] MLPClassifier__activation=relu, MLPClassifier__hidden_layer_sizes=(150, 100) \n",
      "[CV]  MLPClassifier__activation=relu, MLPClassifier__hidden_layer_sizes=(150, 100), total=  13.7s\n",
      "[CV] MLPClassifier__activation=relu, MLPClassifier__hidden_layer_sizes=(150, 100) \n",
      "[CV]  MLPClassifier__activation=relu, MLPClassifier__hidden_layer_sizes=(150, 100), total=  14.4s\n",
      "[CV] MLPClassifier__activation=relu, MLPClassifier__hidden_layer_sizes=(150, 150) \n",
      "[CV]  MLPClassifier__activation=relu, MLPClassifier__hidden_layer_sizes=(150, 150), total=  20.5s\n",
      "[CV] MLPClassifier__activation=relu, MLPClassifier__hidden_layer_sizes=(150, 150) \n",
      "[CV]  MLPClassifier__activation=relu, MLPClassifier__hidden_layer_sizes=(150, 150), total=  25.4s\n",
      "[CV] MLPClassifier__activation=relu, MLPClassifier__hidden_layer_sizes=(150, 150) \n",
      "[CV]  MLPClassifier__activation=relu, MLPClassifier__hidden_layer_sizes=(150, 150), total=  19.2s\n",
      "[CV] MLPClassifier__activation=relu, MLPClassifier__hidden_layer_sizes=(150, 200) \n",
      "[CV]  MLPClassifier__activation=relu, MLPClassifier__hidden_layer_sizes=(150, 200), total=  30.4s\n",
      "[CV] MLPClassifier__activation=relu, MLPClassifier__hidden_layer_sizes=(150, 200) \n",
      "[CV]  MLPClassifier__activation=relu, MLPClassifier__hidden_layer_sizes=(150, 200), total=  23.6s\n",
      "[CV] MLPClassifier__activation=relu, MLPClassifier__hidden_layer_sizes=(150, 200) \n",
      "[CV]  MLPClassifier__activation=relu, MLPClassifier__hidden_layer_sizes=(150, 200), total=  30.8s\n",
      "[CV] MLPClassifier__activation=relu, MLPClassifier__hidden_layer_sizes=(200, 50) \n",
      "[CV]  MLPClassifier__activation=relu, MLPClassifier__hidden_layer_sizes=(200, 50), total=  19.3s\n",
      "[CV] MLPClassifier__activation=relu, MLPClassifier__hidden_layer_sizes=(200, 50) \n",
      "[CV]  MLPClassifier__activation=relu, MLPClassifier__hidden_layer_sizes=(200, 50), total=  19.0s\n",
      "[CV] MLPClassifier__activation=relu, MLPClassifier__hidden_layer_sizes=(200, 50) \n",
      "[CV]  MLPClassifier__activation=relu, MLPClassifier__hidden_layer_sizes=(200, 50), total=  23.4s\n",
      "[CV] MLPClassifier__activation=relu, MLPClassifier__hidden_layer_sizes=(200, 100) \n",
      "[CV]  MLPClassifier__activation=relu, MLPClassifier__hidden_layer_sizes=(200, 100), total=  19.6s\n",
      "[CV] MLPClassifier__activation=relu, MLPClassifier__hidden_layer_sizes=(200, 100) \n",
      "[CV]  MLPClassifier__activation=relu, MLPClassifier__hidden_layer_sizes=(200, 100), total=  21.3s\n",
      "[CV] MLPClassifier__activation=relu, MLPClassifier__hidden_layer_sizes=(200, 100) \n"
     ]
    },
    {
     "name": "stdout",
     "output_type": "stream",
     "text": [
      "[CV]  MLPClassifier__activation=relu, MLPClassifier__hidden_layer_sizes=(200, 100), total=  30.5s\n",
      "[CV] MLPClassifier__activation=relu, MLPClassifier__hidden_layer_sizes=(200, 150) \n",
      "[CV]  MLPClassifier__activation=relu, MLPClassifier__hidden_layer_sizes=(200, 150), total=  34.5s\n",
      "[CV] MLPClassifier__activation=relu, MLPClassifier__hidden_layer_sizes=(200, 150) \n",
      "[CV]  MLPClassifier__activation=relu, MLPClassifier__hidden_layer_sizes=(200, 150), total=  30.6s\n",
      "[CV] MLPClassifier__activation=relu, MLPClassifier__hidden_layer_sizes=(200, 150) \n",
      "[CV]  MLPClassifier__activation=relu, MLPClassifier__hidden_layer_sizes=(200, 150), total=  38.0s\n",
      "[CV] MLPClassifier__activation=relu, MLPClassifier__hidden_layer_sizes=(200, 200) \n",
      "[CV]  MLPClassifier__activation=relu, MLPClassifier__hidden_layer_sizes=(200, 200), total=  39.0s\n",
      "[CV] MLPClassifier__activation=relu, MLPClassifier__hidden_layer_sizes=(200, 200) \n",
      "[CV]  MLPClassifier__activation=relu, MLPClassifier__hidden_layer_sizes=(200, 200), total=  35.5s\n",
      "[CV] MLPClassifier__activation=relu, MLPClassifier__hidden_layer_sizes=(200, 200) \n",
      "[CV]  MLPClassifier__activation=relu, MLPClassifier__hidden_layer_sizes=(200, 200), total=  58.9s\n",
      "[CV] MLPClassifier__activation=identity, MLPClassifier__hidden_layer_sizes=(50, 50) \n",
      "[CV]  MLPClassifier__activation=identity, MLPClassifier__hidden_layer_sizes=(50, 50), total=   5.0s\n",
      "[CV] MLPClassifier__activation=identity, MLPClassifier__hidden_layer_sizes=(50, 50) \n",
      "[CV]  MLPClassifier__activation=identity, MLPClassifier__hidden_layer_sizes=(50, 50), total=   5.5s\n",
      "[CV] MLPClassifier__activation=identity, MLPClassifier__hidden_layer_sizes=(50, 50) \n",
      "[CV]  MLPClassifier__activation=identity, MLPClassifier__hidden_layer_sizes=(50, 50), total=   4.2s\n",
      "[CV] MLPClassifier__activation=identity, MLPClassifier__hidden_layer_sizes=(50, 100) \n",
      "[CV]  MLPClassifier__activation=identity, MLPClassifier__hidden_layer_sizes=(50, 100), total=   5.3s\n",
      "[CV] MLPClassifier__activation=identity, MLPClassifier__hidden_layer_sizes=(50, 100) \n",
      "[CV]  MLPClassifier__activation=identity, MLPClassifier__hidden_layer_sizes=(50, 100), total=   6.3s\n",
      "[CV] MLPClassifier__activation=identity, MLPClassifier__hidden_layer_sizes=(50, 100) \n",
      "[CV]  MLPClassifier__activation=identity, MLPClassifier__hidden_layer_sizes=(50, 100), total=   7.3s\n",
      "[CV] MLPClassifier__activation=identity, MLPClassifier__hidden_layer_sizes=(50, 150) \n",
      "[CV]  MLPClassifier__activation=identity, MLPClassifier__hidden_layer_sizes=(50, 150), total=   4.4s\n",
      "[CV] MLPClassifier__activation=identity, MLPClassifier__hidden_layer_sizes=(50, 150) \n",
      "[CV]  MLPClassifier__activation=identity, MLPClassifier__hidden_layer_sizes=(50, 150), total=   5.0s\n",
      "[CV] MLPClassifier__activation=identity, MLPClassifier__hidden_layer_sizes=(50, 150) \n",
      "[CV]  MLPClassifier__activation=identity, MLPClassifier__hidden_layer_sizes=(50, 150), total=   5.8s\n",
      "[CV] MLPClassifier__activation=identity, MLPClassifier__hidden_layer_sizes=(50, 200) \n",
      "[CV]  MLPClassifier__activation=identity, MLPClassifier__hidden_layer_sizes=(50, 200), total=  11.4s\n",
      "[CV] MLPClassifier__activation=identity, MLPClassifier__hidden_layer_sizes=(50, 200) \n",
      "[CV]  MLPClassifier__activation=identity, MLPClassifier__hidden_layer_sizes=(50, 200), total=  10.9s\n",
      "[CV] MLPClassifier__activation=identity, MLPClassifier__hidden_layer_sizes=(50, 200) \n",
      "[CV]  MLPClassifier__activation=identity, MLPClassifier__hidden_layer_sizes=(50, 200), total=  10.6s\n",
      "[CV] MLPClassifier__activation=identity, MLPClassifier__hidden_layer_sizes=(100, 50) \n",
      "[CV]  MLPClassifier__activation=identity, MLPClassifier__hidden_layer_sizes=(100, 50), total=   7.4s\n",
      "[CV] MLPClassifier__activation=identity, MLPClassifier__hidden_layer_sizes=(100, 50) \n",
      "[CV]  MLPClassifier__activation=identity, MLPClassifier__hidden_layer_sizes=(100, 50), total=   5.7s\n",
      "[CV] MLPClassifier__activation=identity, MLPClassifier__hidden_layer_sizes=(100, 50) \n",
      "[CV]  MLPClassifier__activation=identity, MLPClassifier__hidden_layer_sizes=(100, 50), total=   3.9s\n",
      "[CV] MLPClassifier__activation=identity, MLPClassifier__hidden_layer_sizes=(100, 100) \n",
      "[CV]  MLPClassifier__activation=identity, MLPClassifier__hidden_layer_sizes=(100, 100), total=   9.0s\n",
      "[CV] MLPClassifier__activation=identity, MLPClassifier__hidden_layer_sizes=(100, 100) \n",
      "[CV]  MLPClassifier__activation=identity, MLPClassifier__hidden_layer_sizes=(100, 100), total=   6.6s\n",
      "[CV] MLPClassifier__activation=identity, MLPClassifier__hidden_layer_sizes=(100, 100) \n",
      "[CV]  MLPClassifier__activation=identity, MLPClassifier__hidden_layer_sizes=(100, 100), total=  10.5s\n",
      "[CV] MLPClassifier__activation=identity, MLPClassifier__hidden_layer_sizes=(100, 150) \n",
      "[CV]  MLPClassifier__activation=identity, MLPClassifier__hidden_layer_sizes=(100, 150), total=   9.9s\n",
      "[CV] MLPClassifier__activation=identity, MLPClassifier__hidden_layer_sizes=(100, 150) \n",
      "[CV]  MLPClassifier__activation=identity, MLPClassifier__hidden_layer_sizes=(100, 150), total=   9.7s\n",
      "[CV] MLPClassifier__activation=identity, MLPClassifier__hidden_layer_sizes=(100, 150) \n",
      "[CV]  MLPClassifier__activation=identity, MLPClassifier__hidden_layer_sizes=(100, 150), total=   9.2s\n",
      "[CV] MLPClassifier__activation=identity, MLPClassifier__hidden_layer_sizes=(100, 200) \n",
      "[CV]  MLPClassifier__activation=identity, MLPClassifier__hidden_layer_sizes=(100, 200), total=  22.3s\n",
      "[CV] MLPClassifier__activation=identity, MLPClassifier__hidden_layer_sizes=(100, 200) \n",
      "[CV]  MLPClassifier__activation=identity, MLPClassifier__hidden_layer_sizes=(100, 200), total=  22.2s\n",
      "[CV] MLPClassifier__activation=identity, MLPClassifier__hidden_layer_sizes=(100, 200) \n",
      "[CV]  MLPClassifier__activation=identity, MLPClassifier__hidden_layer_sizes=(100, 200), total=  24.2s\n",
      "[CV] MLPClassifier__activation=identity, MLPClassifier__hidden_layer_sizes=(150, 50) \n",
      "[CV]  MLPClassifier__activation=identity, MLPClassifier__hidden_layer_sizes=(150, 50), total=  16.0s\n",
      "[CV] MLPClassifier__activation=identity, MLPClassifier__hidden_layer_sizes=(150, 50) \n",
      "[CV]  MLPClassifier__activation=identity, MLPClassifier__hidden_layer_sizes=(150, 50), total=  14.4s\n",
      "[CV] MLPClassifier__activation=identity, MLPClassifier__hidden_layer_sizes=(150, 50) \n",
      "[CV]  MLPClassifier__activation=identity, MLPClassifier__hidden_layer_sizes=(150, 50), total=  18.2s\n",
      "[CV] MLPClassifier__activation=identity, MLPClassifier__hidden_layer_sizes=(150, 100) \n",
      "[CV]  MLPClassifier__activation=identity, MLPClassifier__hidden_layer_sizes=(150, 100), total=  16.9s\n",
      "[CV] MLPClassifier__activation=identity, MLPClassifier__hidden_layer_sizes=(150, 100) \n",
      "[CV]  MLPClassifier__activation=identity, MLPClassifier__hidden_layer_sizes=(150, 100), total=  32.3s\n",
      "[CV] MLPClassifier__activation=identity, MLPClassifier__hidden_layer_sizes=(150, 100) \n",
      "[CV]  MLPClassifier__activation=identity, MLPClassifier__hidden_layer_sizes=(150, 100), total=  29.6s\n",
      "[CV] MLPClassifier__activation=identity, MLPClassifier__hidden_layer_sizes=(150, 150) \n",
      "[CV]  MLPClassifier__activation=identity, MLPClassifier__hidden_layer_sizes=(150, 150), total=  48.2s\n",
      "[CV] MLPClassifier__activation=identity, MLPClassifier__hidden_layer_sizes=(150, 150) \n",
      "[CV]  MLPClassifier__activation=identity, MLPClassifier__hidden_layer_sizes=(150, 150), total=  24.3s\n",
      "[CV] MLPClassifier__activation=identity, MLPClassifier__hidden_layer_sizes=(150, 150) \n",
      "[CV]  MLPClassifier__activation=identity, MLPClassifier__hidden_layer_sizes=(150, 150), total=  27.8s\n",
      "[CV] MLPClassifier__activation=identity, MLPClassifier__hidden_layer_sizes=(150, 200) \n",
      "[CV]  MLPClassifier__activation=identity, MLPClassifier__hidden_layer_sizes=(150, 200), total=   8.8s\n",
      "[CV] MLPClassifier__activation=identity, MLPClassifier__hidden_layer_sizes=(150, 200) \n",
      "[CV]  MLPClassifier__activation=identity, MLPClassifier__hidden_layer_sizes=(150, 200), total=  13.2s\n",
      "[CV] MLPClassifier__activation=identity, MLPClassifier__hidden_layer_sizes=(150, 200) \n",
      "[CV]  MLPClassifier__activation=identity, MLPClassifier__hidden_layer_sizes=(150, 200), total=  10.3s\n",
      "[CV] MLPClassifier__activation=identity, MLPClassifier__hidden_layer_sizes=(200, 50) \n",
      "[CV]  MLPClassifier__activation=identity, MLPClassifier__hidden_layer_sizes=(200, 50), total=   3.7s\n",
      "[CV] MLPClassifier__activation=identity, MLPClassifier__hidden_layer_sizes=(200, 50) \n"
     ]
    },
    {
     "name": "stdout",
     "output_type": "stream",
     "text": [
      "[CV]  MLPClassifier__activation=identity, MLPClassifier__hidden_layer_sizes=(200, 50), total=   5.4s\n",
      "[CV] MLPClassifier__activation=identity, MLPClassifier__hidden_layer_sizes=(200, 50) \n",
      "[CV]  MLPClassifier__activation=identity, MLPClassifier__hidden_layer_sizes=(200, 50), total=   8.1s\n",
      "[CV] MLPClassifier__activation=identity, MLPClassifier__hidden_layer_sizes=(200, 100) \n",
      "[CV]  MLPClassifier__activation=identity, MLPClassifier__hidden_layer_sizes=(200, 100), total=   5.8s\n",
      "[CV] MLPClassifier__activation=identity, MLPClassifier__hidden_layer_sizes=(200, 100) \n",
      "[CV]  MLPClassifier__activation=identity, MLPClassifier__hidden_layer_sizes=(200, 100), total=   5.6s\n",
      "[CV] MLPClassifier__activation=identity, MLPClassifier__hidden_layer_sizes=(200, 100) \n",
      "[CV]  MLPClassifier__activation=identity, MLPClassifier__hidden_layer_sizes=(200, 100), total=   8.2s\n",
      "[CV] MLPClassifier__activation=identity, MLPClassifier__hidden_layer_sizes=(200, 150) \n",
      "[CV]  MLPClassifier__activation=identity, MLPClassifier__hidden_layer_sizes=(200, 150), total=  13.2s\n",
      "[CV] MLPClassifier__activation=identity, MLPClassifier__hidden_layer_sizes=(200, 150) \n",
      "[CV]  MLPClassifier__activation=identity, MLPClassifier__hidden_layer_sizes=(200, 150), total=  10.5s\n",
      "[CV] MLPClassifier__activation=identity, MLPClassifier__hidden_layer_sizes=(200, 150) \n",
      "[CV]  MLPClassifier__activation=identity, MLPClassifier__hidden_layer_sizes=(200, 150), total=  13.9s\n",
      "[CV] MLPClassifier__activation=identity, MLPClassifier__hidden_layer_sizes=(200, 200) \n",
      "[CV]  MLPClassifier__activation=identity, MLPClassifier__hidden_layer_sizes=(200, 200), total=  16.8s\n",
      "[CV] MLPClassifier__activation=identity, MLPClassifier__hidden_layer_sizes=(200, 200) \n",
      "[CV]  MLPClassifier__activation=identity, MLPClassifier__hidden_layer_sizes=(200, 200), total=  10.3s\n",
      "[CV] MLPClassifier__activation=identity, MLPClassifier__hidden_layer_sizes=(200, 200) \n",
      "[CV]  MLPClassifier__activation=identity, MLPClassifier__hidden_layer_sizes=(200, 200), total=  11.9s\n"
     ]
    },
    {
     "name": "stderr",
     "output_type": "stream",
     "text": [
      "[Parallel(n_jobs=1)]: Done 192 out of 192 | elapsed: 78.5min finished\n"
     ]
    },
    {
     "data": {
      "text/plain": [
       "GridSearchCV(cv=3, error_score='raise-deprecating',\n",
       "             estimator=Pipeline(memory=None,\n",
       "                                steps=[('scaler',\n",
       "                                        StandardScaler(copy=True,\n",
       "                                                       with_mean=True,\n",
       "                                                       with_std=True)),\n",
       "                                       ('MLPClassifier',\n",
       "                                        MLPClassifier(activation='relu',\n",
       "                                                      alpha=0.0001,\n",
       "                                                      batch_size='auto',\n",
       "                                                      beta_1=0.9, beta_2=0.999,\n",
       "                                                      early_stopping=True,\n",
       "                                                      epsilon=1e-08,\n",
       "                                                      hidden_layer_sizes=(100,),\n",
       "                                                      learning_rate='adaptive',\n",
       "                                                      learnin...\n",
       "             param_grid={'MLPClassifier__activation': ['logistic', 'tanh',\n",
       "                                                       'relu', 'identity'],\n",
       "                         'MLPClassifier__hidden_layer_sizes': [(50, 50),\n",
       "                                                               (50, 100),\n",
       "                                                               (50, 150),\n",
       "                                                               (50, 200),\n",
       "                                                               (100, 50),\n",
       "                                                               (100, 100),\n",
       "                                                               (100, 150),\n",
       "                                                               (100, 200),\n",
       "                                                               (150, 50),\n",
       "                                                               (150, 100),\n",
       "                                                               (150, 150),\n",
       "                                                               (150, 200),\n",
       "                                                               (200, 50),\n",
       "                                                               (200, 100),\n",
       "                                                               (200, 150),\n",
       "                                                               (200, 200)]},\n",
       "             pre_dispatch='2*n_jobs', refit=True, return_train_score=False,\n",
       "             scoring=None, verbose=2)"
      ]
     },
     "execution_count": 66,
     "metadata": {},
     "output_type": "execute_result"
    }
   ],
   "source": [
    "scaler = StandardScaler()\n",
    "\n",
    "mlp = MLPClassifier(early_stopping = True, learning_rate = 'adaptive')\n",
    "pipe = Pipeline([('scaler',scaler),('MLPClassifier', mlp)])\n",
    "\n",
    "grid = {\"MLPClassifier__hidden_layer_sizes\":layers, \"MLPClassifier__activation\":['logistic', 'tanh', 'relu', 'identity']}\n",
    "\n",
    "grid_search = GridSearchCV(pipe, grid, cv = 3, verbose = 2)\n",
    "grid_search.fit(X,y)"
   ]
  },
  {
   "cell_type": "code",
   "execution_count": 67,
   "metadata": {},
   "outputs": [
    {
     "name": "stdout",
     "output_type": "stream",
     "text": [
      "0.910634650501236\n",
      "{'MLPClassifier__activation': 'tanh', 'MLPClassifier__hidden_layer_sizes': (100, 100)}\n"
     ]
    }
   ],
   "source": [
    "print(grid_search.best_score_)\n",
    "print(grid_search.best_params_)"
   ]
  },
  {
   "cell_type": "markdown",
   "metadata": {},
   "source": [
    "The hyperbolic tangent activation function with hidden layer sizes of 100 and 100 produced the best CV accuracy. Zero in on the interval around (100,100)"
   ]
  },
  {
   "cell_type": "code",
   "execution_count": 68,
   "metadata": {},
   "outputs": [
    {
     "data": {
      "text/plain": [
       "[(70, 70),\n",
       " (70, 100),\n",
       " (70, 130),\n",
       " (100, 70),\n",
       " (100, 100),\n",
       " (100, 130),\n",
       " (130, 70),\n",
       " (130, 100),\n",
       " (130, 130)]"
      ]
     },
     "execution_count": 68,
     "metadata": {},
     "output_type": "execute_result"
    }
   ],
   "source": [
    "layers = []\n",
    "sizes = list(range(70,131,30))\n",
    "for width1 in sizes:\n",
    "  for width2 in sizes:\n",
    "    layers.append((width1, width2))\n",
    "layers"
   ]
  },
  {
   "cell_type": "code",
   "execution_count": 69,
   "metadata": {
    "scrolled": true
   },
   "outputs": [
    {
     "name": "stdout",
     "output_type": "stream",
     "text": [
      "Fitting 3 folds for each of 36 candidates, totalling 108 fits\n",
      "[CV] MLPClassifier__activation=logistic, MLPClassifier__hidden_layer_sizes=(70, 70) \n"
     ]
    },
    {
     "name": "stderr",
     "output_type": "stream",
     "text": [
      "[Parallel(n_jobs=1)]: Using backend SequentialBackend with 1 concurrent workers.\n"
     ]
    },
    {
     "name": "stdout",
     "output_type": "stream",
     "text": [
      "[CV]  MLPClassifier__activation=logistic, MLPClassifier__hidden_layer_sizes=(70, 70), total=  11.5s\n",
      "[CV] MLPClassifier__activation=logistic, MLPClassifier__hidden_layer_sizes=(70, 70) \n"
     ]
    },
    {
     "name": "stderr",
     "output_type": "stream",
     "text": [
      "[Parallel(n_jobs=1)]: Done   1 out of   1 | elapsed:   11.4s remaining:    0.0s\n"
     ]
    },
    {
     "name": "stdout",
     "output_type": "stream",
     "text": [
      "[CV]  MLPClassifier__activation=logistic, MLPClassifier__hidden_layer_sizes=(70, 70), total=  23.8s\n",
      "[CV] MLPClassifier__activation=logistic, MLPClassifier__hidden_layer_sizes=(70, 70) \n",
      "[CV]  MLPClassifier__activation=logistic, MLPClassifier__hidden_layer_sizes=(70, 70), total=   8.8s\n",
      "[CV] MLPClassifier__activation=logistic, MLPClassifier__hidden_layer_sizes=(70, 100) \n",
      "[CV]  MLPClassifier__activation=logistic, MLPClassifier__hidden_layer_sizes=(70, 100), total=   6.5s\n",
      "[CV] MLPClassifier__activation=logistic, MLPClassifier__hidden_layer_sizes=(70, 100) \n",
      "[CV]  MLPClassifier__activation=logistic, MLPClassifier__hidden_layer_sizes=(70, 100), total=   8.6s\n",
      "[CV] MLPClassifier__activation=logistic, MLPClassifier__hidden_layer_sizes=(70, 100) \n",
      "[CV]  MLPClassifier__activation=logistic, MLPClassifier__hidden_layer_sizes=(70, 100), total=   7.8s\n",
      "[CV] MLPClassifier__activation=logistic, MLPClassifier__hidden_layer_sizes=(70, 130) \n",
      "[CV]  MLPClassifier__activation=logistic, MLPClassifier__hidden_layer_sizes=(70, 130), total=  33.0s\n",
      "[CV] MLPClassifier__activation=logistic, MLPClassifier__hidden_layer_sizes=(70, 130) \n",
      "[CV]  MLPClassifier__activation=logistic, MLPClassifier__hidden_layer_sizes=(70, 130), total=  11.9s\n",
      "[CV] MLPClassifier__activation=logistic, MLPClassifier__hidden_layer_sizes=(70, 130) \n",
      "[CV]  MLPClassifier__activation=logistic, MLPClassifier__hidden_layer_sizes=(70, 130), total=  27.0s\n",
      "[CV] MLPClassifier__activation=logistic, MLPClassifier__hidden_layer_sizes=(100, 70) \n",
      "[CV]  MLPClassifier__activation=logistic, MLPClassifier__hidden_layer_sizes=(100, 70), total=   8.6s\n",
      "[CV] MLPClassifier__activation=logistic, MLPClassifier__hidden_layer_sizes=(100, 70) \n",
      "[CV]  MLPClassifier__activation=logistic, MLPClassifier__hidden_layer_sizes=(100, 70), total=  10.3s\n",
      "[CV] MLPClassifier__activation=logistic, MLPClassifier__hidden_layer_sizes=(100, 70) \n",
      "[CV]  MLPClassifier__activation=logistic, MLPClassifier__hidden_layer_sizes=(100, 70), total=  12.4s\n",
      "[CV] MLPClassifier__activation=logistic, MLPClassifier__hidden_layer_sizes=(100, 100) \n",
      "[CV]  MLPClassifier__activation=logistic, MLPClassifier__hidden_layer_sizes=(100, 100), total=  13.3s\n",
      "[CV] MLPClassifier__activation=logistic, MLPClassifier__hidden_layer_sizes=(100, 100) \n",
      "[CV]  MLPClassifier__activation=logistic, MLPClassifier__hidden_layer_sizes=(100, 100), total=  10.4s\n",
      "[CV] MLPClassifier__activation=logistic, MLPClassifier__hidden_layer_sizes=(100, 100) \n",
      "[CV]  MLPClassifier__activation=logistic, MLPClassifier__hidden_layer_sizes=(100, 100), total=  15.2s\n",
      "[CV] MLPClassifier__activation=logistic, MLPClassifier__hidden_layer_sizes=(100, 130) \n",
      "[CV]  MLPClassifier__activation=logistic, MLPClassifier__hidden_layer_sizes=(100, 130), total=  18.2s\n",
      "[CV] MLPClassifier__activation=logistic, MLPClassifier__hidden_layer_sizes=(100, 130) \n",
      "[CV]  MLPClassifier__activation=logistic, MLPClassifier__hidden_layer_sizes=(100, 130), total=  13.0s\n",
      "[CV] MLPClassifier__activation=logistic, MLPClassifier__hidden_layer_sizes=(100, 130) \n",
      "[CV]  MLPClassifier__activation=logistic, MLPClassifier__hidden_layer_sizes=(100, 130), total=  13.2s\n",
      "[CV] MLPClassifier__activation=logistic, MLPClassifier__hidden_layer_sizes=(130, 70) \n",
      "[CV]  MLPClassifier__activation=logistic, MLPClassifier__hidden_layer_sizes=(130, 70), total=  15.9s\n",
      "[CV] MLPClassifier__activation=logistic, MLPClassifier__hidden_layer_sizes=(130, 70) \n",
      "[CV]  MLPClassifier__activation=logistic, MLPClassifier__hidden_layer_sizes=(130, 70), total=  11.1s\n",
      "[CV] MLPClassifier__activation=logistic, MLPClassifier__hidden_layer_sizes=(130, 70) \n",
      "[CV]  MLPClassifier__activation=logistic, MLPClassifier__hidden_layer_sizes=(130, 70), total=  10.2s\n",
      "[CV] MLPClassifier__activation=logistic, MLPClassifier__hidden_layer_sizes=(130, 100) \n",
      "[CV]  MLPClassifier__activation=logistic, MLPClassifier__hidden_layer_sizes=(130, 100), total=  10.8s\n",
      "[CV] MLPClassifier__activation=logistic, MLPClassifier__hidden_layer_sizes=(130, 100) \n",
      "[CV]  MLPClassifier__activation=logistic, MLPClassifier__hidden_layer_sizes=(130, 100), total=  13.0s\n",
      "[CV] MLPClassifier__activation=logistic, MLPClassifier__hidden_layer_sizes=(130, 100) \n",
      "[CV]  MLPClassifier__activation=logistic, MLPClassifier__hidden_layer_sizes=(130, 100), total=  12.7s\n",
      "[CV] MLPClassifier__activation=logistic, MLPClassifier__hidden_layer_sizes=(130, 130) \n",
      "[CV]  MLPClassifier__activation=logistic, MLPClassifier__hidden_layer_sizes=(130, 130), total=  18.1s\n",
      "[CV] MLPClassifier__activation=logistic, MLPClassifier__hidden_layer_sizes=(130, 130) \n",
      "[CV]  MLPClassifier__activation=logistic, MLPClassifier__hidden_layer_sizes=(130, 130), total=  48.8s\n",
      "[CV] MLPClassifier__activation=logistic, MLPClassifier__hidden_layer_sizes=(130, 130) \n",
      "[CV]  MLPClassifier__activation=logistic, MLPClassifier__hidden_layer_sizes=(130, 130), total=  45.2s\n",
      "[CV] MLPClassifier__activation=tanh, MLPClassifier__hidden_layer_sizes=(70, 70) \n",
      "[CV]  MLPClassifier__activation=tanh, MLPClassifier__hidden_layer_sizes=(70, 70), total=  16.8s\n",
      "[CV] MLPClassifier__activation=tanh, MLPClassifier__hidden_layer_sizes=(70, 70) \n",
      "[CV]  MLPClassifier__activation=tanh, MLPClassifier__hidden_layer_sizes=(70, 70), total=  11.0s\n",
      "[CV] MLPClassifier__activation=tanh, MLPClassifier__hidden_layer_sizes=(70, 70) \n",
      "[CV]  MLPClassifier__activation=tanh, MLPClassifier__hidden_layer_sizes=(70, 70), total=  13.6s\n",
      "[CV] MLPClassifier__activation=tanh, MLPClassifier__hidden_layer_sizes=(70, 100) \n",
      "[CV]  MLPClassifier__activation=tanh, MLPClassifier__hidden_layer_sizes=(70, 100), total=  11.4s\n",
      "[CV] MLPClassifier__activation=tanh, MLPClassifier__hidden_layer_sizes=(70, 100) \n",
      "[CV]  MLPClassifier__activation=tanh, MLPClassifier__hidden_layer_sizes=(70, 100), total=  10.9s\n",
      "[CV] MLPClassifier__activation=tanh, MLPClassifier__hidden_layer_sizes=(70, 100) \n",
      "[CV]  MLPClassifier__activation=tanh, MLPClassifier__hidden_layer_sizes=(70, 100), total=  12.4s\n",
      "[CV] MLPClassifier__activation=tanh, MLPClassifier__hidden_layer_sizes=(70, 130) \n",
      "[CV]  MLPClassifier__activation=tanh, MLPClassifier__hidden_layer_sizes=(70, 130), total=  13.7s\n",
      "[CV] MLPClassifier__activation=tanh, MLPClassifier__hidden_layer_sizes=(70, 130) \n",
      "[CV]  MLPClassifier__activation=tanh, MLPClassifier__hidden_layer_sizes=(70, 130), total=  14.3s\n",
      "[CV] MLPClassifier__activation=tanh, MLPClassifier__hidden_layer_sizes=(70, 130) \n",
      "[CV]  MLPClassifier__activation=tanh, MLPClassifier__hidden_layer_sizes=(70, 130), total=  19.4s\n",
      "[CV] MLPClassifier__activation=tanh, MLPClassifier__hidden_layer_sizes=(100, 70) \n",
      "[CV]  MLPClassifier__activation=tanh, MLPClassifier__hidden_layer_sizes=(100, 70), total=  13.8s\n",
      "[CV] MLPClassifier__activation=tanh, MLPClassifier__hidden_layer_sizes=(100, 70) \n",
      "[CV]  MLPClassifier__activation=tanh, MLPClassifier__hidden_layer_sizes=(100, 70), total=  16.7s\n",
      "[CV] MLPClassifier__activation=tanh, MLPClassifier__hidden_layer_sizes=(100, 70) \n",
      "[CV]  MLPClassifier__activation=tanh, MLPClassifier__hidden_layer_sizes=(100, 70), total=  16.1s\n",
      "[CV] MLPClassifier__activation=tanh, MLPClassifier__hidden_layer_sizes=(100, 100) \n",
      "[CV]  MLPClassifier__activation=tanh, MLPClassifier__hidden_layer_sizes=(100, 100), total=  15.7s\n",
      "[CV] MLPClassifier__activation=tanh, MLPClassifier__hidden_layer_sizes=(100, 100) \n",
      "[CV]  MLPClassifier__activation=tanh, MLPClassifier__hidden_layer_sizes=(100, 100), total=  14.1s\n",
      "[CV] MLPClassifier__activation=tanh, MLPClassifier__hidden_layer_sizes=(100, 100) \n",
      "[CV]  MLPClassifier__activation=tanh, MLPClassifier__hidden_layer_sizes=(100, 100), total=  12.0s\n",
      "[CV] MLPClassifier__activation=tanh, MLPClassifier__hidden_layer_sizes=(100, 130) \n",
      "[CV]  MLPClassifier__activation=tanh, MLPClassifier__hidden_layer_sizes=(100, 130), total=  24.1s\n",
      "[CV] MLPClassifier__activation=tanh, MLPClassifier__hidden_layer_sizes=(100, 130) \n",
      "[CV]  MLPClassifier__activation=tanh, MLPClassifier__hidden_layer_sizes=(100, 130), total=  23.4s\n",
      "[CV] MLPClassifier__activation=tanh, MLPClassifier__hidden_layer_sizes=(100, 130) \n",
      "[CV]  MLPClassifier__activation=tanh, MLPClassifier__hidden_layer_sizes=(100, 130), total=  20.8s\n",
      "[CV] MLPClassifier__activation=tanh, MLPClassifier__hidden_layer_sizes=(130, 70) \n",
      "[CV]  MLPClassifier__activation=tanh, MLPClassifier__hidden_layer_sizes=(130, 70), total=  10.8s\n",
      "[CV] MLPClassifier__activation=tanh, MLPClassifier__hidden_layer_sizes=(130, 70) \n"
     ]
    },
    {
     "name": "stdout",
     "output_type": "stream",
     "text": [
      "[CV]  MLPClassifier__activation=tanh, MLPClassifier__hidden_layer_sizes=(130, 70), total=  14.0s\n",
      "[CV] MLPClassifier__activation=tanh, MLPClassifier__hidden_layer_sizes=(130, 70) \n",
      "[CV]  MLPClassifier__activation=tanh, MLPClassifier__hidden_layer_sizes=(130, 70), total=  14.0s\n",
      "[CV] MLPClassifier__activation=tanh, MLPClassifier__hidden_layer_sizes=(130, 100) \n",
      "[CV]  MLPClassifier__activation=tanh, MLPClassifier__hidden_layer_sizes=(130, 100), total=  23.6s\n",
      "[CV] MLPClassifier__activation=tanh, MLPClassifier__hidden_layer_sizes=(130, 100) \n",
      "[CV]  MLPClassifier__activation=tanh, MLPClassifier__hidden_layer_sizes=(130, 100), total=  21.9s\n",
      "[CV] MLPClassifier__activation=tanh, MLPClassifier__hidden_layer_sizes=(130, 100) \n",
      "[CV]  MLPClassifier__activation=tanh, MLPClassifier__hidden_layer_sizes=(130, 100), total=  29.3s\n",
      "[CV] MLPClassifier__activation=tanh, MLPClassifier__hidden_layer_sizes=(130, 130) \n",
      "[CV]  MLPClassifier__activation=tanh, MLPClassifier__hidden_layer_sizes=(130, 130), total=  20.0s\n",
      "[CV] MLPClassifier__activation=tanh, MLPClassifier__hidden_layer_sizes=(130, 130) \n",
      "[CV]  MLPClassifier__activation=tanh, MLPClassifier__hidden_layer_sizes=(130, 130), total=  23.9s\n",
      "[CV] MLPClassifier__activation=tanh, MLPClassifier__hidden_layer_sizes=(130, 130) \n",
      "[CV]  MLPClassifier__activation=tanh, MLPClassifier__hidden_layer_sizes=(130, 130), total=  25.3s\n",
      "[CV] MLPClassifier__activation=relu, MLPClassifier__hidden_layer_sizes=(70, 70) \n",
      "[CV]  MLPClassifier__activation=relu, MLPClassifier__hidden_layer_sizes=(70, 70), total=  13.3s\n",
      "[CV] MLPClassifier__activation=relu, MLPClassifier__hidden_layer_sizes=(70, 70) \n",
      "[CV]  MLPClassifier__activation=relu, MLPClassifier__hidden_layer_sizes=(70, 70), total=  12.4s\n",
      "[CV] MLPClassifier__activation=relu, MLPClassifier__hidden_layer_sizes=(70, 70) \n",
      "[CV]  MLPClassifier__activation=relu, MLPClassifier__hidden_layer_sizes=(70, 70), total=  12.4s\n",
      "[CV] MLPClassifier__activation=relu, MLPClassifier__hidden_layer_sizes=(70, 100) \n",
      "[CV]  MLPClassifier__activation=relu, MLPClassifier__hidden_layer_sizes=(70, 100), total=  17.9s\n",
      "[CV] MLPClassifier__activation=relu, MLPClassifier__hidden_layer_sizes=(70, 100) \n",
      "[CV]  MLPClassifier__activation=relu, MLPClassifier__hidden_layer_sizes=(70, 100), total=  13.6s\n",
      "[CV] MLPClassifier__activation=relu, MLPClassifier__hidden_layer_sizes=(70, 100) \n",
      "[CV]  MLPClassifier__activation=relu, MLPClassifier__hidden_layer_sizes=(70, 100), total=  19.3s\n",
      "[CV] MLPClassifier__activation=relu, MLPClassifier__hidden_layer_sizes=(70, 130) \n",
      "[CV]  MLPClassifier__activation=relu, MLPClassifier__hidden_layer_sizes=(70, 130), total=  24.4s\n",
      "[CV] MLPClassifier__activation=relu, MLPClassifier__hidden_layer_sizes=(70, 130) \n",
      "[CV]  MLPClassifier__activation=relu, MLPClassifier__hidden_layer_sizes=(70, 130), total=  24.3s\n",
      "[CV] MLPClassifier__activation=relu, MLPClassifier__hidden_layer_sizes=(70, 130) \n",
      "[CV]  MLPClassifier__activation=relu, MLPClassifier__hidden_layer_sizes=(70, 130), total=  24.1s\n",
      "[CV] MLPClassifier__activation=relu, MLPClassifier__hidden_layer_sizes=(100, 70) \n",
      "[CV]  MLPClassifier__activation=relu, MLPClassifier__hidden_layer_sizes=(100, 70), total=  18.0s\n",
      "[CV] MLPClassifier__activation=relu, MLPClassifier__hidden_layer_sizes=(100, 70) \n",
      "[CV]  MLPClassifier__activation=relu, MLPClassifier__hidden_layer_sizes=(100, 70), total=  11.0s\n",
      "[CV] MLPClassifier__activation=relu, MLPClassifier__hidden_layer_sizes=(100, 70) \n",
      "[CV]  MLPClassifier__activation=relu, MLPClassifier__hidden_layer_sizes=(100, 70), total=   9.9s\n",
      "[CV] MLPClassifier__activation=relu, MLPClassifier__hidden_layer_sizes=(100, 100) \n",
      "[CV]  MLPClassifier__activation=relu, MLPClassifier__hidden_layer_sizes=(100, 100), total=  12.8s\n",
      "[CV] MLPClassifier__activation=relu, MLPClassifier__hidden_layer_sizes=(100, 100) \n",
      "[CV]  MLPClassifier__activation=relu, MLPClassifier__hidden_layer_sizes=(100, 100), total=  22.1s\n",
      "[CV] MLPClassifier__activation=relu, MLPClassifier__hidden_layer_sizes=(100, 100) \n",
      "[CV]  MLPClassifier__activation=relu, MLPClassifier__hidden_layer_sizes=(100, 100), total=  11.7s\n",
      "[CV] MLPClassifier__activation=relu, MLPClassifier__hidden_layer_sizes=(100, 130) \n",
      "[CV]  MLPClassifier__activation=relu, MLPClassifier__hidden_layer_sizes=(100, 130), total=  20.8s\n",
      "[CV] MLPClassifier__activation=relu, MLPClassifier__hidden_layer_sizes=(100, 130) \n",
      "[CV]  MLPClassifier__activation=relu, MLPClassifier__hidden_layer_sizes=(100, 130), total=  26.3s\n",
      "[CV] MLPClassifier__activation=relu, MLPClassifier__hidden_layer_sizes=(100, 130) \n",
      "[CV]  MLPClassifier__activation=relu, MLPClassifier__hidden_layer_sizes=(100, 130), total=  18.7s\n",
      "[CV] MLPClassifier__activation=relu, MLPClassifier__hidden_layer_sizes=(130, 70) \n",
      "[CV]  MLPClassifier__activation=relu, MLPClassifier__hidden_layer_sizes=(130, 70), total=  15.7s\n",
      "[CV] MLPClassifier__activation=relu, MLPClassifier__hidden_layer_sizes=(130, 70) \n",
      "[CV]  MLPClassifier__activation=relu, MLPClassifier__hidden_layer_sizes=(130, 70), total=  15.9s\n",
      "[CV] MLPClassifier__activation=relu, MLPClassifier__hidden_layer_sizes=(130, 70) \n",
      "[CV]  MLPClassifier__activation=relu, MLPClassifier__hidden_layer_sizes=(130, 70), total=  18.0s\n",
      "[CV] MLPClassifier__activation=relu, MLPClassifier__hidden_layer_sizes=(130, 100) \n",
      "[CV]  MLPClassifier__activation=relu, MLPClassifier__hidden_layer_sizes=(130, 100), total=  15.8s\n",
      "[CV] MLPClassifier__activation=relu, MLPClassifier__hidden_layer_sizes=(130, 100) \n",
      "[CV]  MLPClassifier__activation=relu, MLPClassifier__hidden_layer_sizes=(130, 100), total=  13.0s\n",
      "[CV] MLPClassifier__activation=relu, MLPClassifier__hidden_layer_sizes=(130, 100) \n",
      "[CV]  MLPClassifier__activation=relu, MLPClassifier__hidden_layer_sizes=(130, 100), total=  22.2s\n",
      "[CV] MLPClassifier__activation=relu, MLPClassifier__hidden_layer_sizes=(130, 130) \n",
      "[CV]  MLPClassifier__activation=relu, MLPClassifier__hidden_layer_sizes=(130, 130), total=  23.2s\n",
      "[CV] MLPClassifier__activation=relu, MLPClassifier__hidden_layer_sizes=(130, 130) \n",
      "[CV]  MLPClassifier__activation=relu, MLPClassifier__hidden_layer_sizes=(130, 130), total=  21.0s\n",
      "[CV] MLPClassifier__activation=relu, MLPClassifier__hidden_layer_sizes=(130, 130) \n",
      "[CV]  MLPClassifier__activation=relu, MLPClassifier__hidden_layer_sizes=(130, 130), total=  15.6s\n",
      "[CV] MLPClassifier__activation=identity, MLPClassifier__hidden_layer_sizes=(70, 70) \n",
      "[CV]  MLPClassifier__activation=identity, MLPClassifier__hidden_layer_sizes=(70, 70), total=   4.9s\n",
      "[CV] MLPClassifier__activation=identity, MLPClassifier__hidden_layer_sizes=(70, 70) \n",
      "[CV]  MLPClassifier__activation=identity, MLPClassifier__hidden_layer_sizes=(70, 70), total=   4.4s\n",
      "[CV] MLPClassifier__activation=identity, MLPClassifier__hidden_layer_sizes=(70, 70) \n",
      "[CV]  MLPClassifier__activation=identity, MLPClassifier__hidden_layer_sizes=(70, 70), total=   5.5s\n",
      "[CV] MLPClassifier__activation=identity, MLPClassifier__hidden_layer_sizes=(70, 100) \n",
      "[CV]  MLPClassifier__activation=identity, MLPClassifier__hidden_layer_sizes=(70, 100), total=   7.9s\n",
      "[CV] MLPClassifier__activation=identity, MLPClassifier__hidden_layer_sizes=(70, 100) \n",
      "[CV]  MLPClassifier__activation=identity, MLPClassifier__hidden_layer_sizes=(70, 100), total=   4.3s\n",
      "[CV] MLPClassifier__activation=identity, MLPClassifier__hidden_layer_sizes=(70, 100) \n",
      "[CV]  MLPClassifier__activation=identity, MLPClassifier__hidden_layer_sizes=(70, 100), total=  11.5s\n",
      "[CV] MLPClassifier__activation=identity, MLPClassifier__hidden_layer_sizes=(70, 130) \n",
      "[CV]  MLPClassifier__activation=identity, MLPClassifier__hidden_layer_sizes=(70, 130), total=   7.0s\n",
      "[CV] MLPClassifier__activation=identity, MLPClassifier__hidden_layer_sizes=(70, 130) \n",
      "[CV]  MLPClassifier__activation=identity, MLPClassifier__hidden_layer_sizes=(70, 130), total=   8.3s\n",
      "[CV] MLPClassifier__activation=identity, MLPClassifier__hidden_layer_sizes=(70, 130) \n",
      "[CV]  MLPClassifier__activation=identity, MLPClassifier__hidden_layer_sizes=(70, 130), total=   8.0s\n",
      "[CV] MLPClassifier__activation=identity, MLPClassifier__hidden_layer_sizes=(100, 70) \n",
      "[CV]  MLPClassifier__activation=identity, MLPClassifier__hidden_layer_sizes=(100, 70), total=   5.6s\n",
      "[CV] MLPClassifier__activation=identity, MLPClassifier__hidden_layer_sizes=(100, 70) \n",
      "[CV]  MLPClassifier__activation=identity, MLPClassifier__hidden_layer_sizes=(100, 70), total=   5.4s\n",
      "[CV] MLPClassifier__activation=identity, MLPClassifier__hidden_layer_sizes=(100, 70) \n"
     ]
    },
    {
     "name": "stdout",
     "output_type": "stream",
     "text": [
      "[CV]  MLPClassifier__activation=identity, MLPClassifier__hidden_layer_sizes=(100, 70), total=   4.6s\n",
      "[CV] MLPClassifier__activation=identity, MLPClassifier__hidden_layer_sizes=(100, 100) \n",
      "[CV]  MLPClassifier__activation=identity, MLPClassifier__hidden_layer_sizes=(100, 100), total=   5.8s\n",
      "[CV] MLPClassifier__activation=identity, MLPClassifier__hidden_layer_sizes=(100, 100) \n",
      "[CV]  MLPClassifier__activation=identity, MLPClassifier__hidden_layer_sizes=(100, 100), total=   5.2s\n",
      "[CV] MLPClassifier__activation=identity, MLPClassifier__hidden_layer_sizes=(100, 100) \n",
      "[CV]  MLPClassifier__activation=identity, MLPClassifier__hidden_layer_sizes=(100, 100), total=  10.4s\n",
      "[CV] MLPClassifier__activation=identity, MLPClassifier__hidden_layer_sizes=(100, 130) \n",
      "[CV]  MLPClassifier__activation=identity, MLPClassifier__hidden_layer_sizes=(100, 130), total=   7.8s\n",
      "[CV] MLPClassifier__activation=identity, MLPClassifier__hidden_layer_sizes=(100, 130) \n",
      "[CV]  MLPClassifier__activation=identity, MLPClassifier__hidden_layer_sizes=(100, 130), total=   7.3s\n",
      "[CV] MLPClassifier__activation=identity, MLPClassifier__hidden_layer_sizes=(100, 130) \n",
      "[CV]  MLPClassifier__activation=identity, MLPClassifier__hidden_layer_sizes=(100, 130), total=  10.0s\n",
      "[CV] MLPClassifier__activation=identity, MLPClassifier__hidden_layer_sizes=(130, 70) \n",
      "[CV]  MLPClassifier__activation=identity, MLPClassifier__hidden_layer_sizes=(130, 70), total=   7.7s\n",
      "[CV] MLPClassifier__activation=identity, MLPClassifier__hidden_layer_sizes=(130, 70) \n",
      "[CV]  MLPClassifier__activation=identity, MLPClassifier__hidden_layer_sizes=(130, 70), total=   5.4s\n",
      "[CV] MLPClassifier__activation=identity, MLPClassifier__hidden_layer_sizes=(130, 70) \n",
      "[CV]  MLPClassifier__activation=identity, MLPClassifier__hidden_layer_sizes=(130, 70), total=   8.6s\n",
      "[CV] MLPClassifier__activation=identity, MLPClassifier__hidden_layer_sizes=(130, 100) \n",
      "[CV]  MLPClassifier__activation=identity, MLPClassifier__hidden_layer_sizes=(130, 100), total=  13.2s\n",
      "[CV] MLPClassifier__activation=identity, MLPClassifier__hidden_layer_sizes=(130, 100) \n",
      "[CV]  MLPClassifier__activation=identity, MLPClassifier__hidden_layer_sizes=(130, 100), total=  14.4s\n",
      "[CV] MLPClassifier__activation=identity, MLPClassifier__hidden_layer_sizes=(130, 100) \n",
      "[CV]  MLPClassifier__activation=identity, MLPClassifier__hidden_layer_sizes=(130, 100), total=  14.4s\n",
      "[CV] MLPClassifier__activation=identity, MLPClassifier__hidden_layer_sizes=(130, 130) \n",
      "[CV]  MLPClassifier__activation=identity, MLPClassifier__hidden_layer_sizes=(130, 130), total=   9.3s\n",
      "[CV] MLPClassifier__activation=identity, MLPClassifier__hidden_layer_sizes=(130, 130) \n",
      "[CV]  MLPClassifier__activation=identity, MLPClassifier__hidden_layer_sizes=(130, 130), total=   9.0s\n",
      "[CV] MLPClassifier__activation=identity, MLPClassifier__hidden_layer_sizes=(130, 130) \n",
      "[CV]  MLPClassifier__activation=identity, MLPClassifier__hidden_layer_sizes=(130, 130), total=  14.6s\n"
     ]
    },
    {
     "name": "stderr",
     "output_type": "stream",
     "text": [
      "[Parallel(n_jobs=1)]: Done 108 out of 108 | elapsed: 26.6min finished\n"
     ]
    },
    {
     "data": {
      "text/plain": [
       "GridSearchCV(cv=3, error_score='raise-deprecating',\n",
       "             estimator=Pipeline(memory=None,\n",
       "                                steps=[('scaler',\n",
       "                                        StandardScaler(copy=True,\n",
       "                                                       with_mean=True,\n",
       "                                                       with_std=True)),\n",
       "                                       ('MLPClassifier',\n",
       "                                        MLPClassifier(activation='relu',\n",
       "                                                      alpha=0.0001,\n",
       "                                                      batch_size='auto',\n",
       "                                                      beta_1=0.9, beta_2=0.999,\n",
       "                                                      early_stopping=True,\n",
       "                                                      epsilon=1e-08,\n",
       "                                                      hidden_layer_sizes=(100,),\n",
       "                                                      learning_rate='adaptive',\n",
       "                                                      learnin...\n",
       "                                                      verbose=False,\n",
       "                                                      warm_start=False))],\n",
       "                                verbose=False),\n",
       "             iid='warn', n_jobs=None,\n",
       "             param_grid={'MLPClassifier__activation': ['logistic', 'tanh',\n",
       "                                                       'relu', 'identity'],\n",
       "                         'MLPClassifier__hidden_layer_sizes': [(70, 70),\n",
       "                                                               (70, 100),\n",
       "                                                               (70, 130),\n",
       "                                                               (100, 70),\n",
       "                                                               (100, 100),\n",
       "                                                               (100, 130),\n",
       "                                                               (130, 70),\n",
       "                                                               (130, 100),\n",
       "                                                               (130, 130)]},\n",
       "             pre_dispatch='2*n_jobs', refit=True, return_train_score=False,\n",
       "             scoring=None, verbose=2)"
      ]
     },
     "execution_count": 69,
     "metadata": {},
     "output_type": "execute_result"
    }
   ],
   "source": [
    "scaler = StandardScaler()\n",
    "\n",
    "mlp = MLPClassifier(early_stopping = True, learning_rate = 'adaptive')\n",
    "pipe = Pipeline([('scaler',scaler),('MLPClassifier', mlp)])\n",
    "\n",
    "grid = {\"MLPClassifier__hidden_layer_sizes\":layers, \"MLPClassifier__activation\":['logistic', 'tanh', 'relu', 'identity']}\n",
    "\n",
    "grid_search = GridSearchCV(pipe, grid, cv = 3, verbose = 2)\n",
    "grid_search.fit(X,y)"
   ]
  },
  {
   "cell_type": "code",
   "execution_count": 70,
   "metadata": {},
   "outputs": [
    {
     "name": "stdout",
     "output_type": "stream",
     "text": [
      "0.9102247177053702\n",
      "{'MLPClassifier__activation': 'tanh', 'MLPClassifier__hidden_layer_sizes': (130, 130)}\n"
     ]
    }
   ],
   "source": [
    "print(grid_search.best_score_)\n",
    "print(grid_search.best_params_)"
   ]
  },
  {
   "cell_type": "markdown",
   "metadata": {},
   "source": [
    "Cross validation accuracy did not improve a substantial ammount, so end the CV loops to obtain a final CV accuracy"
   ]
  },
  {
   "cell_type": "markdown",
   "metadata": {},
   "source": [
    "Scale the data"
   ]
  },
  {
   "cell_type": "code",
   "execution_count": 14,
   "metadata": {},
   "outputs": [],
   "source": [
    "from sklearn.model_selection import cross_val_score\n",
    "from sklearn.preprocessing import StandardScaler\n",
    "scaler = StandardScaler()\n",
    "scaler.fit(X)\n",
    "X_sc = scaler.transform(X)"
   ]
  },
  {
   "cell_type": "markdown",
   "metadata": {},
   "source": [
    "Find 5-fold CV error"
   ]
  },
  {
   "cell_type": "code",
   "execution_count": 15,
   "metadata": {},
   "outputs": [
    {
     "name": "stderr",
     "output_type": "stream",
     "text": [
      "[Parallel(n_jobs=1)]: Using backend SequentialBackend with 1 concurrent workers.\n",
      "[Parallel(n_jobs=1)]: Done   5 out of   5 | elapsed: 33.2min finished\n"
     ]
    }
   ],
   "source": [
    "cv = cross_val_score(MLPClassifier(activation = 'tanh', hidden_layer_sizes = (130,130), max_iter = 1000), X_sc, y, cv = 5, verbose = True)"
   ]
  },
  {
   "cell_type": "code",
   "execution_count": 16,
   "metadata": {},
   "outputs": [
    {
     "data": {
      "text/plain": [
       "'5-fold CV score: 88.37% accuracy'"
      ]
     },
     "execution_count": 16,
     "metadata": {},
     "output_type": "execute_result"
    }
   ],
   "source": [
    "\"5-fold CV score: \" + str(round(cv.mean()*100,2)) + '% accuracy'"
   ]
  },
  {
   "cell_type": "markdown",
   "metadata": {},
   "source": [
    "Make cross validation predictions to obtain a classification report and a confusion matrix"
   ]
  },
  {
   "cell_type": "code",
   "execution_count": 17,
   "metadata": {},
   "outputs": [],
   "source": [
    "from sklearn.model_selection import cross_val_predict\n",
    "cv_pred = cross_val_predict(MLPClassifier(activation = 'tanh', hidden_layer_sizes = (130,130), max_iter = 1000), X_sc, y, cv = 5)"
   ]
  },
  {
   "cell_type": "code",
   "execution_count": 18,
   "metadata": {},
   "outputs": [],
   "source": [
    "from sklearn.metrics import confusion_matrix\n",
    "from sklearn.metrics import classification_report"
   ]
  },
  {
   "cell_type": "code",
   "execution_count": 19,
   "metadata": {},
   "outputs": [
    {
     "name": "stdout",
     "output_type": "stream",
     "text": [
      "[[ 5155   491     0     1     0     0     0     0     0     0]\n",
      " [  712 17778   867     2     1     0     0     0     0     1]\n",
      " [    3   866 14955   774     5     1     1     0     0     1]\n",
      " [    0     3   832 10002   642     2     0     1     1     2]\n",
      " [    1     2     6   633  6132   467     7    10     2     4]\n",
      " [    0     0     5     1   513  3790   388    15     0    11]\n",
      " [    0     0     1     1     4   387  2450   295     3    12]\n",
      " [    0     0     0     3     2    12   329  1649   254    22]\n",
      " [    0     0     0     0     0     4     5   247  1113   244]\n",
      " [    0     2     2     2     3    14    10    17   241  8087]]\n"
     ]
    }
   ],
   "source": [
    "print(confusion_matrix(cv_pred, y))"
   ]
  },
  {
   "cell_type": "code",
   "execution_count": 20,
   "metadata": {},
   "outputs": [
    {
     "name": "stdout",
     "output_type": "stream",
     "text": [
      "              precision    recall  f1-score   support\n",
      "\n",
      "           A       0.88      0.91      0.90      5647\n",
      "           B       0.93      0.92      0.92     19361\n",
      "           C       0.90      0.90      0.90     16606\n",
      "           D       0.88      0.87      0.87     11485\n",
      "           E       0.84      0.84      0.84      7264\n",
      "           F       0.81      0.80      0.81      4723\n",
      "           G       0.77      0.78      0.77      3153\n",
      "           H       0.74      0.73      0.73      2271\n",
      "           I       0.69      0.69      0.69      1613\n",
      "           J       0.96      0.97      0.96      8378\n",
      "\n",
      "    accuracy                           0.88     80501\n",
      "   macro avg       0.84      0.84      0.84     80501\n",
      "weighted avg       0.88      0.88      0.88     80501\n",
      "\n"
     ]
    }
   ],
   "source": [
    "print(classification_report(cv_pred, y))"
   ]
  },
  {
   "cell_type": "markdown",
   "metadata": {},
   "source": [
    "The 5-fold CV accuracy of a neural net with a hyperbolic tangent activation function and hidden layer widths of 100 and 100, repectively, was 88.37%. The model did the best in terms of f1 score in identifying members of class J, which contained rides that had fares greater than \\\\$25. The model had the worst f1 score in identifying members of class I, which contained rides with fares that were less than \\\\$25, but greater than or equal to \\\\$22.50. Most often, true members of class I were mislabeled as a member of class J, or of class H, with almost equal frequency."
   ]
  }
 ],
 "metadata": {
  "kernelspec": {
   "display_name": "Python 3",
   "language": "python",
   "name": "python3"
  },
  "language_info": {
   "codemirror_mode": {
    "name": "ipython",
    "version": 3
   },
   "file_extension": ".py",
   "mimetype": "text/x-python",
   "name": "python",
   "nbconvert_exporter": "python",
   "pygments_lexer": "ipython3",
   "version": "3.7.4"
  }
 },
 "nbformat": 4,
 "nbformat_minor": 2
}
