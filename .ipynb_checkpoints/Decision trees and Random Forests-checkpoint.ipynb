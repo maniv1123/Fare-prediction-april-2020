{
 "cells": [
  {
   "cell_type": "markdown",
   "metadata": {},
   "source": [
    "It costs 50 cents per 1/5 mile when traveling above 12mph or per 60 seconds in slow traffic or when the vehicle is stopped. So, we are hoping to come up with a better fare estimate as traffic will be different throughout the day.\n",
    "\n",
    "Previously we finished EDA and Feature Engineering and exported final data. We binned our data by fare_amount, which are classified A-J. Here, We are trying to classify fares using Random forest and Decision Trees algorithm, given variables like time of the day, holiday proximity, and approximate pickup/dropoff location. "
   ]
  },
  {
   "cell_type": "markdown",
   "metadata": {},
   "source": [
    "## Import taxi_clean"
   ]
  },
  {
   "cell_type": "markdown",
   "metadata": {},
   "source": [
    "We import various libraries needed for Decision Trees and Random forest. We also import our final data compiled from Taxi_Exploaration.ipynb"
   ]
  },
  {
   "cell_type": "code",
   "execution_count": 70,
   "metadata": {},
   "outputs": [
    {
     "name": "stdout",
     "output_type": "stream",
     "text": [
      "trip_distance        float64\n",
      "fare_amount          float64\n",
      "winter                 int64\n",
      "spring                 int64\n",
      "summer                 int64\n",
      "fall                   int64\n",
      "PULongitude          float64\n",
      "PULatitude           float64\n",
      "DOLongitude          float64\n",
      "DOLatitude           float64\n",
      "pickup_datetime       object\n",
      "dropoff_datetime      object\n",
      "ride_duration         object\n",
      "Early morning          int64\n",
      "Morning                int64\n",
      "Afternoon              int64\n",
      "Night                  int64\n",
      "Holiday Proximity      int64\n",
      "label                 object\n",
      "dtype: object\n",
      "\n",
      " (80501, 19)\n"
     ]
    },
    {
     "data": {
      "text/html": [
       "<div>\n",
       "<style scoped>\n",
       "    .dataframe tbody tr th:only-of-type {\n",
       "        vertical-align: middle;\n",
       "    }\n",
       "\n",
       "    .dataframe tbody tr th {\n",
       "        vertical-align: top;\n",
       "    }\n",
       "\n",
       "    .dataframe thead th {\n",
       "        text-align: right;\n",
       "    }\n",
       "</style>\n",
       "<table border=\"1\" class=\"dataframe\">\n",
       "  <thead>\n",
       "    <tr style=\"text-align: right;\">\n",
       "      <th></th>\n",
       "      <th>trip_distance</th>\n",
       "      <th>fare_amount</th>\n",
       "      <th>winter</th>\n",
       "      <th>spring</th>\n",
       "      <th>summer</th>\n",
       "      <th>fall</th>\n",
       "      <th>PULongitude</th>\n",
       "      <th>PULatitude</th>\n",
       "      <th>DOLongitude</th>\n",
       "      <th>DOLatitude</th>\n",
       "      <th>pickup_datetime</th>\n",
       "      <th>dropoff_datetime</th>\n",
       "      <th>ride_duration</th>\n",
       "      <th>Early morning</th>\n",
       "      <th>Morning</th>\n",
       "      <th>Afternoon</th>\n",
       "      <th>Night</th>\n",
       "      <th>Holiday Proximity</th>\n",
       "      <th>label</th>\n",
       "    </tr>\n",
       "  </thead>\n",
       "  <tbody>\n",
       "    <tr>\n",
       "      <td>0</td>\n",
       "      <td>5.90</td>\n",
       "      <td>41.5</td>\n",
       "      <td>0</td>\n",
       "      <td>1</td>\n",
       "      <td>0</td>\n",
       "      <td>0</td>\n",
       "      <td>-73.984176</td>\n",
       "      <td>40.759845</td>\n",
       "      <td>-73.961815</td>\n",
       "      <td>40.809570</td>\n",
       "      <td>2019-03-26 14:24:29</td>\n",
       "      <td>2019-03-26 15:26:27</td>\n",
       "      <td>0 days 01:01:58.000000000</td>\n",
       "      <td>0</td>\n",
       "      <td>0</td>\n",
       "      <td>1</td>\n",
       "      <td>0</td>\n",
       "      <td>1</td>\n",
       "      <td>J</td>\n",
       "    </tr>\n",
       "    <tr>\n",
       "      <td>1</td>\n",
       "      <td>7.31</td>\n",
       "      <td>28.0</td>\n",
       "      <td>0</td>\n",
       "      <td>0</td>\n",
       "      <td>1</td>\n",
       "      <td>0</td>\n",
       "      <td>-73.965572</td>\n",
       "      <td>40.782460</td>\n",
       "      <td>-73.853384</td>\n",
       "      <td>40.752316</td>\n",
       "      <td>2019-07-03 07:15:18</td>\n",
       "      <td>2019-07-03 07:49:08</td>\n",
       "      <td>0 days 00:33:50.000000000</td>\n",
       "      <td>0</td>\n",
       "      <td>1</td>\n",
       "      <td>0</td>\n",
       "      <td>0</td>\n",
       "      <td>0</td>\n",
       "      <td>J</td>\n",
       "    </tr>\n",
       "    <tr>\n",
       "      <td>2</td>\n",
       "      <td>0.99</td>\n",
       "      <td>5.5</td>\n",
       "      <td>0</td>\n",
       "      <td>1</td>\n",
       "      <td>0</td>\n",
       "      <td>0</td>\n",
       "      <td>-73.981352</td>\n",
       "      <td>40.773906</td>\n",
       "      <td>-73.987973</td>\n",
       "      <td>40.775770</td>\n",
       "      <td>2019-05-25 17:25:49</td>\n",
       "      <td>2019-05-25 17:30:21</td>\n",
       "      <td>0 days 00:04:32.000000000</td>\n",
       "      <td>0</td>\n",
       "      <td>0</td>\n",
       "      <td>1</td>\n",
       "      <td>0</td>\n",
       "      <td>0</td>\n",
       "      <td>B</td>\n",
       "    </tr>\n",
       "    <tr>\n",
       "      <td>3</td>\n",
       "      <td>1.91</td>\n",
       "      <td>9.0</td>\n",
       "      <td>0</td>\n",
       "      <td>0</td>\n",
       "      <td>1</td>\n",
       "      <td>0</td>\n",
       "      <td>-73.972145</td>\n",
       "      <td>40.756816</td>\n",
       "      <td>-73.956972</td>\n",
       "      <td>40.780491</td>\n",
       "      <td>2019-07-22 15:31:00</td>\n",
       "      <td>2019-07-22 15:41:36</td>\n",
       "      <td>0 days 00:10:36.000000000</td>\n",
       "      <td>0</td>\n",
       "      <td>0</td>\n",
       "      <td>1</td>\n",
       "      <td>0</td>\n",
       "      <td>0</td>\n",
       "      <td>C</td>\n",
       "    </tr>\n",
       "    <tr>\n",
       "      <td>4</td>\n",
       "      <td>1.18</td>\n",
       "      <td>7.5</td>\n",
       "      <td>0</td>\n",
       "      <td>1</td>\n",
       "      <td>0</td>\n",
       "      <td>0</td>\n",
       "      <td>-73.965691</td>\n",
       "      <td>40.768542</td>\n",
       "      <td>-73.954568</td>\n",
       "      <td>40.765507</td>\n",
       "      <td>2019-03-13 21:13:28</td>\n",
       "      <td>2019-03-13 21:21:42</td>\n",
       "      <td>0 days 00:08:14.000000000</td>\n",
       "      <td>0</td>\n",
       "      <td>0</td>\n",
       "      <td>0</td>\n",
       "      <td>0</td>\n",
       "      <td>0</td>\n",
       "      <td>C</td>\n",
       "    </tr>\n",
       "  </tbody>\n",
       "</table>\n",
       "</div>"
      ],
      "text/plain": [
       "   trip_distance  fare_amount  winter  spring  summer  fall  PULongitude  \\\n",
       "0           5.90         41.5       0       1       0     0   -73.984176   \n",
       "1           7.31         28.0       0       0       1     0   -73.965572   \n",
       "2           0.99          5.5       0       1       0     0   -73.981352   \n",
       "3           1.91          9.0       0       0       1     0   -73.972145   \n",
       "4           1.18          7.5       0       1       0     0   -73.965691   \n",
       "\n",
       "   PULatitude  DOLongitude  DOLatitude      pickup_datetime  \\\n",
       "0   40.759845   -73.961815   40.809570  2019-03-26 14:24:29   \n",
       "1   40.782460   -73.853384   40.752316  2019-07-03 07:15:18   \n",
       "2   40.773906   -73.987973   40.775770  2019-05-25 17:25:49   \n",
       "3   40.756816   -73.956972   40.780491  2019-07-22 15:31:00   \n",
       "4   40.768542   -73.954568   40.765507  2019-03-13 21:13:28   \n",
       "\n",
       "      dropoff_datetime              ride_duration  Early morning  Morning  \\\n",
       "0  2019-03-26 15:26:27  0 days 01:01:58.000000000              0        0   \n",
       "1  2019-07-03 07:49:08  0 days 00:33:50.000000000              0        1   \n",
       "2  2019-05-25 17:30:21  0 days 00:04:32.000000000              0        0   \n",
       "3  2019-07-22 15:41:36  0 days 00:10:36.000000000              0        0   \n",
       "4  2019-03-13 21:21:42  0 days 00:08:14.000000000              0        0   \n",
       "\n",
       "   Afternoon  Night  Holiday Proximity label  \n",
       "0          1      0                  1     J  \n",
       "1          0      0                  0     J  \n",
       "2          1      0                  0     B  \n",
       "3          1      0                  0     C  \n",
       "4          0      0                  0     C  "
      ]
     },
     "execution_count": 70,
     "metadata": {},
     "output_type": "execute_result"
    }
   ],
   "source": [
    "import pandas as pd\n",
    "import matplotlib as plt\n",
    "import numpy as np\n",
    "import time\n",
    "from sklearn.metrics import classification_report, confusion_matrix, accuracy_score\n",
    "from sklearn.model_selection import cross_val_score, GridSearchCV, cross_val_predict\n",
    "from sklearn.tree import DecisionTreeClassifier, plot_tree\n",
    "from sklearn.model_selection import train_test_split\n",
    "from sklearn.ensemble import RandomForestClassifier\n",
    "from sklearn.datasets import make_classification\n",
    "from sklearn.metrics import mean_squared_error\n",
    "from sklearn.metrics import accuracy_score\n",
    "\n",
    "#import data \n",
    "data = pd.read_csv(\"taxi_clean_lg.csv\")\n",
    "\n",
    "# Check data type\n",
    "print (data.dtypes)\n",
    "\n",
    "#display data\n",
    "print('\\n',data.shape)\n",
    "data.head()"
   ]
  },
  {
   "cell_type": "markdown",
   "metadata": {},
   "source": [
    "There are objects we need to convert to numeric"
   ]
  },
  {
   "cell_type": "code",
   "execution_count": 71,
   "metadata": {},
   "outputs": [
    {
     "data": {
      "text/html": [
       "<div>\n",
       "<style scoped>\n",
       "    .dataframe tbody tr th:only-of-type {\n",
       "        vertical-align: middle;\n",
       "    }\n",
       "\n",
       "    .dataframe tbody tr th {\n",
       "        vertical-align: top;\n",
       "    }\n",
       "\n",
       "    .dataframe thead th {\n",
       "        text-align: right;\n",
       "    }\n",
       "</style>\n",
       "<table border=\"1\" class=\"dataframe\">\n",
       "  <thead>\n",
       "    <tr style=\"text-align: right;\">\n",
       "      <th></th>\n",
       "      <th>trip_distance</th>\n",
       "      <th>fare_amount</th>\n",
       "      <th>winter</th>\n",
       "      <th>spring</th>\n",
       "      <th>summer</th>\n",
       "      <th>fall</th>\n",
       "      <th>PULongitude</th>\n",
       "      <th>PULatitude</th>\n",
       "      <th>DOLongitude</th>\n",
       "      <th>DOLatitude</th>\n",
       "      <th>pickup_datetime</th>\n",
       "      <th>dropoff_datetime</th>\n",
       "      <th>ride_duration</th>\n",
       "      <th>Early morning</th>\n",
       "      <th>Morning</th>\n",
       "      <th>Afternoon</th>\n",
       "      <th>Night</th>\n",
       "      <th>Holiday Proximity</th>\n",
       "      <th>label</th>\n",
       "    </tr>\n",
       "  </thead>\n",
       "  <tbody>\n",
       "    <tr>\n",
       "      <td>0</td>\n",
       "      <td>5.90</td>\n",
       "      <td>41.5</td>\n",
       "      <td>0</td>\n",
       "      <td>1</td>\n",
       "      <td>0</td>\n",
       "      <td>0</td>\n",
       "      <td>-73.984176</td>\n",
       "      <td>40.759845</td>\n",
       "      <td>-73.961815</td>\n",
       "      <td>40.809570</td>\n",
       "      <td>1553610269000000000</td>\n",
       "      <td>1553613987000000000</td>\n",
       "      <td>3718000000000</td>\n",
       "      <td>0</td>\n",
       "      <td>0</td>\n",
       "      <td>1</td>\n",
       "      <td>0</td>\n",
       "      <td>1</td>\n",
       "      <td>J</td>\n",
       "    </tr>\n",
       "    <tr>\n",
       "      <td>1</td>\n",
       "      <td>7.31</td>\n",
       "      <td>28.0</td>\n",
       "      <td>0</td>\n",
       "      <td>0</td>\n",
       "      <td>1</td>\n",
       "      <td>0</td>\n",
       "      <td>-73.965572</td>\n",
       "      <td>40.782460</td>\n",
       "      <td>-73.853384</td>\n",
       "      <td>40.752316</td>\n",
       "      <td>1562138118000000000</td>\n",
       "      <td>1562140148000000000</td>\n",
       "      <td>2030000000000</td>\n",
       "      <td>0</td>\n",
       "      <td>1</td>\n",
       "      <td>0</td>\n",
       "      <td>0</td>\n",
       "      <td>0</td>\n",
       "      <td>J</td>\n",
       "    </tr>\n",
       "    <tr>\n",
       "      <td>2</td>\n",
       "      <td>0.99</td>\n",
       "      <td>5.5</td>\n",
       "      <td>0</td>\n",
       "      <td>1</td>\n",
       "      <td>0</td>\n",
       "      <td>0</td>\n",
       "      <td>-73.981352</td>\n",
       "      <td>40.773906</td>\n",
       "      <td>-73.987973</td>\n",
       "      <td>40.775770</td>\n",
       "      <td>1558805149000000000</td>\n",
       "      <td>1558805421000000000</td>\n",
       "      <td>272000000000</td>\n",
       "      <td>0</td>\n",
       "      <td>0</td>\n",
       "      <td>1</td>\n",
       "      <td>0</td>\n",
       "      <td>0</td>\n",
       "      <td>B</td>\n",
       "    </tr>\n",
       "    <tr>\n",
       "      <td>3</td>\n",
       "      <td>1.91</td>\n",
       "      <td>9.0</td>\n",
       "      <td>0</td>\n",
       "      <td>0</td>\n",
       "      <td>1</td>\n",
       "      <td>0</td>\n",
       "      <td>-73.972145</td>\n",
       "      <td>40.756816</td>\n",
       "      <td>-73.956972</td>\n",
       "      <td>40.780491</td>\n",
       "      <td>1563809460000000000</td>\n",
       "      <td>1563810096000000000</td>\n",
       "      <td>636000000000</td>\n",
       "      <td>0</td>\n",
       "      <td>0</td>\n",
       "      <td>1</td>\n",
       "      <td>0</td>\n",
       "      <td>0</td>\n",
       "      <td>C</td>\n",
       "    </tr>\n",
       "    <tr>\n",
       "      <td>4</td>\n",
       "      <td>1.18</td>\n",
       "      <td>7.5</td>\n",
       "      <td>0</td>\n",
       "      <td>1</td>\n",
       "      <td>0</td>\n",
       "      <td>0</td>\n",
       "      <td>-73.965691</td>\n",
       "      <td>40.768542</td>\n",
       "      <td>-73.954568</td>\n",
       "      <td>40.765507</td>\n",
       "      <td>1552511608000000000</td>\n",
       "      <td>1552512102000000000</td>\n",
       "      <td>494000000000</td>\n",
       "      <td>0</td>\n",
       "      <td>0</td>\n",
       "      <td>0</td>\n",
       "      <td>0</td>\n",
       "      <td>0</td>\n",
       "      <td>C</td>\n",
       "    </tr>\n",
       "  </tbody>\n",
       "</table>\n",
       "</div>"
      ],
      "text/plain": [
       "   trip_distance  fare_amount  winter  spring  summer  fall  PULongitude  \\\n",
       "0           5.90         41.5       0       1       0     0   -73.984176   \n",
       "1           7.31         28.0       0       0       1     0   -73.965572   \n",
       "2           0.99          5.5       0       1       0     0   -73.981352   \n",
       "3           1.91          9.0       0       0       1     0   -73.972145   \n",
       "4           1.18          7.5       0       1       0     0   -73.965691   \n",
       "\n",
       "   PULatitude  DOLongitude  DOLatitude      pickup_datetime  \\\n",
       "0   40.759845   -73.961815   40.809570  1553610269000000000   \n",
       "1   40.782460   -73.853384   40.752316  1562138118000000000   \n",
       "2   40.773906   -73.987973   40.775770  1558805149000000000   \n",
       "3   40.756816   -73.956972   40.780491  1563809460000000000   \n",
       "4   40.768542   -73.954568   40.765507  1552511608000000000   \n",
       "\n",
       "      dropoff_datetime  ride_duration  Early morning  Morning  Afternoon  \\\n",
       "0  1553613987000000000  3718000000000              0        0          1   \n",
       "1  1562140148000000000  2030000000000              0        1          0   \n",
       "2  1558805421000000000   272000000000              0        0          1   \n",
       "3  1563810096000000000   636000000000              0        0          1   \n",
       "4  1552512102000000000   494000000000              0        0          0   \n",
       "\n",
       "   Night  Holiday Proximity label  \n",
       "0      0                  1     J  \n",
       "1      0                  0     J  \n",
       "2      0                  0     B  \n",
       "3      0                  0     C  \n",
       "4      0                  0     C  "
      ]
     },
     "execution_count": 71,
     "metadata": {},
     "output_type": "execute_result"
    }
   ],
   "source": [
    "# We change the datatypes so they are in right format for our model\n",
    "data['pickup_datetime'] = pd.to_datetime(data['pickup_datetime'])\n",
    "data['pickup_datetime'] = pd.to_numeric(data['pickup_datetime'])\n",
    "data['dropoff_datetime'] = pd.to_datetime(data['dropoff_datetime'])\n",
    "data['dropoff_datetime'] = pd.to_numeric(data['dropoff_datetime'])\n",
    "\n",
    "data['ride_duration'] = data['dropoff_datetime'] - data['pickup_datetime']\n",
    "\n",
    "# Fill any empty NA cells with 0\n",
    "data.fillna(0, inplace= True)\n",
    "data.head()"
   ]
  },
  {
   "cell_type": "markdown",
   "metadata": {},
   "source": [
    "## Random Forest"
   ]
  },
  {
   "cell_type": "markdown",
   "metadata": {},
   "source": [
    "We begin by splitting the dataset into training and testing sets. Then We create a Random Forest classifier from sklearn.ensemble. Then we use 5 fold cross validation loop on classifier through GridSearchCV, to obtain the best parameters, so to avoid overfitting our training data."
   ]
  },
  {
   "cell_type": "code",
   "execution_count": 72,
   "metadata": {},
   "outputs": [
    {
     "name": "stdout",
     "output_type": "stream",
     "text": [
      "Accuracy of classifier:  0.9983848614708346\n",
      "\n",
      " Best value for each of the tested parameters: {'criterion': 'entropy', 'max_depth': 8, 'max_features': 'auto', 'n_estimators': 200}\n",
      "\n",
      " and accuracy of the model with these best values is 0.9990062111801242\n"
     ]
    }
   ],
   "source": [
    "# Split dataset into training and test sets\n",
    "y = data['label']\n",
    "X = data.drop(columns=['label'])\n",
    "X_train, X_test, y_train, y_test = train_test_split(X, y, test_size=0.8, random_state=42)\n",
    "\n",
    "\n",
    "# Fit Random Forest classifier on training set\n",
    "random_forest = RandomForestClassifier(n_estimators=200, max_depth=5, max_features= 4, random_state=42)\n",
    "\n",
    "# Add Grid\n",
    "param_grid = {'n_estimators': [200],'max_features': ['auto', 'sqrt', 'log2'], 'max_depth' : [4,5,6,7,8],'criterion' :['gini', 'entropy']}\n",
    "new_tune = GridSearchCV(estimator=random_forest, param_grid=param_grid, cv= 5)\n",
    "new_tune.fit(X_train,y_train)\n",
    "c_score3 = cross_val_score(new_tune, X_train, y_train, cv=2)\n",
    "print('Accuracy of classifier: ', c_score3.mean())\n",
    "\n",
    "print('\\n Best value for each of the tested parameters:',new_tune.best_params_)\n",
    "print('\\n and accuracy of the model with these best values is',new_tune.best_score_)"
   ]
  },
  {
   "cell_type": "markdown",
   "metadata": {},
   "source": [
    "Once we obtain the best parameters, we pass these values to the classifier, and fit it to our training data. Then we compare the accuracy with our testing data "
   ]
  },
  {
   "cell_type": "code",
   "execution_count": 73,
   "metadata": {},
   "outputs": [
    {
     "name": "stdout",
     "output_type": "stream",
     "text": [
      "Accuracy for Random Forest on CV data:  0.9963044052110992\n"
     ]
    }
   ],
   "source": [
    "rfc1=RandomForestClassifier(random_state=42, criterion = 'entropy', max_depth = 8, max_features = 'auto', n_estimators = 20)\n",
    "rfc1.fit(X_train, y_train)\n",
    "pred=rfc1.predict(X_test)\n",
    "print(\"Accuracy for Random Forest on CV data: \",accuracy_score(y_test,pred))"
   ]
  },
  {
   "cell_type": "markdown",
   "metadata": {},
   "source": [
    "Finally we print the confusion matrix and classification report for analysis"
   ]
  },
  {
   "cell_type": "code",
   "execution_count": 74,
   "metadata": {},
   "outputs": [
    {
     "name": "stdout",
     "output_type": "stream",
     "text": [
      "\n",
      " Confusion Matrix \n",
      " [[ 4703     4     1     0     0     0     0     0     0     0]\n",
      " [    0 15256     3     0     0     0     0     0     0     0]\n",
      " [    0     0 13398     1     0     0     0     0     0     0]\n",
      " [    0     0     1  9139     4     0     0     0     0     1]\n",
      " [    0     0     0     3  5819     1     0     0     0     0]\n",
      " [    0     0     0     0     2  3707    43     0     0     0]\n",
      " [    0     0     1     0     2    21  2500     4     0     0]\n",
      " [    0     0     0     0     9     4   110  1665    10     0]\n",
      " [    0     0     0     0     1     0     1     2  1279     5]\n",
      " [    0     0     1     1     0     1     1     0     0  6697]]\n",
      "\n",
      " Classification report \n",
      "               precision    recall  f1-score   support\n",
      "\n",
      "           A       1.00      1.00      1.00      4708\n",
      "           B       1.00      1.00      1.00     15259\n",
      "           C       1.00      1.00      1.00     13399\n",
      "           D       1.00      1.00      1.00      9145\n",
      "           E       1.00      1.00      1.00      5823\n",
      "           F       0.99      0.99      0.99      3752\n",
      "           G       0.94      0.99      0.96      2528\n",
      "           H       1.00      0.93      0.96      1798\n",
      "           I       0.99      0.99      0.99      1288\n",
      "           J       1.00      1.00      1.00      6701\n",
      "\n",
      "    accuracy                           1.00     64401\n",
      "   macro avg       0.99      0.99      0.99     64401\n",
      "weighted avg       1.00      1.00      1.00     64401\n",
      "\n"
     ]
    }
   ],
   "source": [
    "# Print confusion matrix \n",
    "print('\\n Confusion Matrix \\n',confusion_matrix(y_test,pred))\n",
    "\n",
    "# Print classification report\n",
    "print('\\n Classification report \\n',classification_report(y_test,pred))"
   ]
  },
  {
   "cell_type": "markdown",
   "metadata": {},
   "source": [
    "We see that class A to E have negligible false positive and negatives. Class G has the highest number of false positive, while class H has the highest false negative. This is reflected in both precision and recall score. G has the lowest precision score, and H has the lowest recall score. However, even this is very borderline as class G were mainly misclassified as either class F or class H. f1-score are high for all classes, so this is a good model to classify fares given variables."
   ]
  },
  {
   "cell_type": "markdown",
   "metadata": {},
   "source": [
    "## Decision Trees"
   ]
  },
  {
   "cell_type": "markdown",
   "metadata": {},
   "source": [
    "We begin by creating a Decision Tree classifier from sklearn.tree. Then we use 5 fold cross validation loop on classifier through GridSearchCV, to obtain the best parameters, so to avoid overfitting our training data."
   ]
  },
  {
   "cell_type": "code",
   "execution_count": 68,
   "metadata": {},
   "outputs": [
    {
     "name": "stdout",
     "output_type": "stream",
     "text": [
      "Accuracy of classifier:  0.9999377722464219\n",
      "\n",
      " Best value for each of the tested parameters: {'max_depth': 10, 'max_features': 15, 'min_samples_leaf': 5}\n",
      "\n",
      " and accuracy of the model with these best values is 0.9999378881987577\n"
     ]
    }
   ],
   "source": [
    "# Fit a decision tree classifier on the training set\n",
    "decision_tree = DecisionTreeClassifier(random_state=0)\n",
    "\n",
    "# Add Grid\n",
    "new_grid = {'max_depth':[5,10,15,20], 'min_samples_leaf':[5,10,15,20], 'max_features':[5,10,15]}\n",
    "new_tune2 = GridSearchCV(estimator = decision_tree, param_grid = new_grid, cv = 5)\n",
    "new_tune2.fit(X_train,y_train)\n",
    "\n",
    "# Run Cross Validation loop and print accuracy\n",
    "c_score = cross_val_score(decision_tree, X_train, y_train, cv=10)\n",
    "print('Accuracy of classifier: ', c_score.mean())\n",
    "\n",
    "print('\\n Best value for each of the tested parameters:',new_tune2.best_params_)\n",
    "print('\\n and accuracy of the model with these best values is',new_tune2.best_score_)"
   ]
  },
  {
   "cell_type": "markdown",
   "metadata": {},
   "source": [
    "Once we obtain the best parameters, we pass these values to the classifier, and fit it to our training data. Then we compare the accuracy with our testing data "
   ]
  },
  {
   "cell_type": "code",
   "execution_count": 66,
   "metadata": {},
   "outputs": [
    {
     "name": "stderr",
     "output_type": "stream",
     "text": [
      "C:\\Users\\maniv\\Anaconda3\\lib\\site-packages\\sklearn\\ensemble\\forest.py:245: FutureWarning: The default value of n_estimators will change from 10 in version 0.20 to 100 in 0.22.\n",
      "  \"10 in version 0.20 to 100 in 0.22.\", FutureWarning)\n"
     ]
    },
    {
     "name": "stdout",
     "output_type": "stream",
     "text": [
      "Accuracy for Decision Trees on CV data:  0.9999534168724088\n"
     ]
    }
   ],
   "source": [
    "dt = RandomForestClassifier(random_state=42, min_samples_leaf = 5, max_depth = 10, max_features = 15)\n",
    "dt.fit(X_train, y_train)\n",
    "pred1 = dt.predict(X_test)\n",
    "print(\"Accuracy for Decision Trees on CV data: \",accuracy_score(y_test,pred1))"
   ]
  },
  {
   "cell_type": "markdown",
   "metadata": {},
   "source": [
    "Finally we print the confusion matrix and classification report for analysis"
   ]
  },
  {
   "cell_type": "code",
   "execution_count": 67,
   "metadata": {},
   "outputs": [
    {
     "name": "stdout",
     "output_type": "stream",
     "text": [
      "\n",
      " Confusion Matrix \n",
      " [[ 4708     0     0     0     0     0     0     0     0     0]\n",
      " [    0 15259     0     0     0     0     0     0     0     0]\n",
      " [    0     0 13399     0     0     0     0     0     0     0]\n",
      " [    0     0     0  9145     0     0     0     0     0     0]\n",
      " [    0     0     0     0  5822     1     0     0     0     0]\n",
      " [    0     0     0     0     0  3751     1     0     0     0]\n",
      " [    0     0     0     0     0     0  2528     0     0     0]\n",
      " [    0     0     0     0     0     0     0  1798     0     0]\n",
      " [    0     0     0     0     0     0     0     0  1287     1]\n",
      " [    0     0     0     0     0     0     0     0     0  6701]]\n",
      "\n",
      " Classification report \n",
      "               precision    recall  f1-score   support\n",
      "\n",
      "           A       1.00      1.00      1.00      4708\n",
      "           B       1.00      1.00      1.00     15259\n",
      "           C       1.00      1.00      1.00     13399\n",
      "           D       1.00      1.00      1.00      9145\n",
      "           E       1.00      1.00      1.00      5823\n",
      "           F       1.00      1.00      1.00      3752\n",
      "           G       1.00      1.00      1.00      2528\n",
      "           H       1.00      1.00      1.00      1798\n",
      "           I       1.00      1.00      1.00      1288\n",
      "           J       1.00      1.00      1.00      6701\n",
      "\n",
      "    accuracy                           1.00     64401\n",
      "   macro avg       1.00      1.00      1.00     64401\n",
      "weighted avg       1.00      1.00      1.00     64401\n",
      "\n"
     ]
    }
   ],
   "source": [
    "# Print confusion matrix \n",
    "print('\\n Confusion Matrix \\n',confusion_matrix(y_test,pred1))\n",
    "\n",
    "# Print classification report\n",
    "print('\\n Classification report \\n',classification_report(y_test,pred1))"
   ]
  },
  {
   "cell_type": "markdown",
   "metadata": {},
   "source": [
    "We see that all the classes have no false positive. Class E, F, and I had 1 datapoint each misclassified as False Negative which are also very borderline. Theese are very minimial numbers so our precision, recall, and f1 score are all 1 across all classes, and our accuracy for this model is 99.99%"
   ]
  }
 ],
 "metadata": {
  "kernelspec": {
   "display_name": "Python 3",
   "language": "python",
   "name": "python3"
  },
  "language_info": {
   "codemirror_mode": {
    "name": "ipython",
    "version": 3
   },
   "file_extension": ".py",
   "mimetype": "text/x-python",
   "name": "python",
   "nbconvert_exporter": "python",
   "pygments_lexer": "ipython3",
   "version": "3.7.4"
  }
 },
 "nbformat": 4,
 "nbformat_minor": 4
}
