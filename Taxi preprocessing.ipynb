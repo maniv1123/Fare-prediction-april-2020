{
 "cells": [
  {
   "cell_type": "code",
   "execution_count": 1,
   "metadata": {},
   "outputs": [],
   "source": [
    "import pandas as pd\n",
    "from sklearn.model_selection import train_test_split "
   ]
  },
  {
   "cell_type": "markdown",
   "metadata": {},
   "source": [
    "### Read trip data for yellow cabs for each month in 2019"
   ]
  },
  {
   "cell_type": "code",
   "execution_count": null,
   "metadata": {},
   "outputs": [],
   "source": [
    "#read in files locally\n",
    "jan = pd.read_csv(\"yellow_tripdata_2019-01.csv\")\n",
    "feb = pd.read_csv(\"yellow_tripdata_2019-02.csv\")\n",
    "mar = pd.read_csv(\"yellow_tripdata_2019-03.csv\")\n",
    "apr = pd.read_csv(\"yellow_tripdata_2019-04.csv\")\n",
    "may = pd.read_csv(\"yellow_tripdata_2019-05.csv\")\n",
    "jun = pd.read_csv(\"yellow_tripdata_2019-06.csv\")\n",
    "jul = pd.read_csv(\"yellow_tripdata_2019-07.csv\")\n",
    "aug = pd.read_csv(\"yellow_tripdata_2019-08.csv\")\n",
    "sept = pd.read_csv(\"yellow_tripdata_2019-09.csv\")\n",
    "oct = pd.read_csv(\"yellow_tripdata_2019-10.csv\")\n",
    "nov = pd.read_csv(\"yellow_tripdata_2019-11.csv\")\n",
    "dec = pd.read_csv(\"yellow_tripdata_2019-12.csv\")"
   ]
  },
  {
   "cell_type": "code",
   "execution_count": null,
   "metadata": {},
   "outputs": [],
   "source": [
    "#read in files with a URL\n",
    "jan = pd.read_csv(\"https://s3.amazonaws.com/nyc-tlc/trip+data/yellow_tripdata_2019-01.csv\")\n",
    "feb = pd.read_csv(\"https://s3.amazonaws.com/nyc-tlc/trip+data/yellow_tripdata_2019-02.csv\")\n",
    "mar = pd.read_csv(\"https://s3.amazonaws.com/nyc-tlc/trip+data/yellow_tripdata_2019-03.csv\")\n",
    "apr = pd.read_csv(\"https://s3.amazonaws.com/nyc-tlc/trip+data/yellow_tripdata_2019-04.csv\")\n",
    "may = pd.read_csv(\"https://s3.amazonaws.com/nyc-tlc/trip+data/yellow_tripdata_2019-05.csv\")\n",
    "jun = pd.read_csv(\"https://s3.amazonaws.com/nyc-tlc/trip+data/yellow_tripdata_2019-06.csv\")\n",
    "jul = pd.read_csv(\"https://nyc-tlc.s3.amazonaws.com/trip+data/yellow_tripdata_2019-07.csv\")\n",
    "aug = pd.read_csv(\"https://nyc-tlc.s3.amazonaws.com/trip+data/yellow_tripdata_2019-08.csv\")\n",
    "sept = pd.read_csv(\"https://nyc-tlc.s3.amazonaws.com/trip+data/yellow_tripdata_2019-09.csv\")\n",
    "oct = pd.read_csv(\"https://nyc-tlc.s3.amazonaws.com/trip+data/yellow_tripdata_2019-10.csv\")\n",
    "nov = pd.read_csv(\"https://nyc-tlc.s3.amazonaws.com/trip+data/yellow_tripdata_2019-11.csv\")\n",
    "dec = pd.read_csv(\"https://nyc-tlc.s3.amazonaws.com/trip+data/yellow_tripdata_2019-12.csv\")"
   ]
  },
  {
   "cell_type": "markdown",
   "metadata": {},
   "source": [
    "### Put each month's data frame in a dictionary \"months\""
   ]
  },
  {
   "cell_type": "code",
   "execution_count": 3,
   "metadata": {},
   "outputs": [],
   "source": [
    "months = {'jan':jan, 'feb':feb, 'mar':mar, 'apr':apr, 'may':may, 'jun':jun, \n",
    "          'jul':jul, 'aug':aug, 'sept':sept, 'oct':oct, 'nov':nov, 'dec':dec}"
   ]
  },
  {
   "cell_type": "markdown",
   "metadata": {},
   "source": [
    "### Create a resampling of each month that is .1% of the size of the original sampling"
   ]
  },
  {
   "cell_type": "code",
   "execution_count": 4,
   "metadata": {},
   "outputs": [
    {
     "name": "stdout",
     "output_type": "stream",
     "text": [
      "Resampling jan\n",
      ".01 % Complete.\n",
      ".1 % Complete.\n",
      "1% Complete.\n",
      "10% Complete.\n",
      "Resampling feb\n",
      ".01 % Complete.\n",
      ".1 % Complete.\n",
      "1% Complete.\n",
      "10% Complete.\n",
      "Resampling mar\n",
      ".01 % Complete.\n",
      ".1 % Complete.\n",
      "1% Complete.\n",
      "10% Complete.\n",
      "Resampling apr\n",
      ".01 % Complete.\n",
      ".1 % Complete.\n",
      "1% Complete.\n",
      "10% Complete.\n",
      "Resampling may\n",
      ".01 % Complete.\n",
      ".1 % Complete.\n",
      "1% Complete.\n",
      "10% Complete.\n",
      "Resampling jun\n",
      ".01 % Complete.\n",
      ".1 % Complete.\n",
      "1% Complete.\n",
      "10% Complete.\n",
      "Resampling jul\n",
      ".01 % Complete.\n",
      ".1 % Complete.\n",
      "1% Complete.\n",
      "10% Complete.\n",
      "Resampling aug\n",
      ".01 % Complete.\n",
      ".1 % Complete.\n",
      "1% Complete.\n",
      "10% Complete.\n",
      "Resampling sept\n",
      ".01 % Complete.\n",
      ".1 % Complete.\n",
      "1% Complete.\n",
      "10% Complete.\n",
      "Resampling oct\n",
      ".01 % Complete.\n",
      ".1 % Complete.\n",
      "1% Complete.\n",
      "10% Complete.\n",
      "Resampling nov\n",
      ".01 % Complete.\n",
      ".1 % Complete.\n",
      "1% Complete.\n",
      "10% Complete.\n",
      "Resampling dec\n",
      ".01 % Complete.\n",
      ".1 % Complete.\n",
      "1% Complete.\n",
      "10% Complete.\n"
     ]
    }
   ],
   "source": [
    "reduced_months0001 = {}\n",
    "reduced_months001 = {}\n",
    "reduced_months01 = {}\n",
    "reduced_months1 = {}\n",
    "for month in months:\n",
    "  print(\"Resampling \"+month)\n",
    "  reduced_months0001[month], _ = train_test_split(months[month], train_size=0.0001, random_state = 101)\n",
    "  print(\".01 % Complete.\")\n",
    "  reduced_months001[month], _ = train_test_split(months[month], train_size=0.001, random_state = 101)\n",
    "  print(\".1 % Complete.\")\n",
    "  reduced_months01[month], _ = train_test_split(months[month], train_size=0.01, random_state = 101)\n",
    "  print(\"1% Complete.\")\n",
    "  reduced_months1[month], _ = train_test_split(months[month], train_size=0.1, random_state = 101)\n",
    "  print(\"10% Complete.\")"
   ]
  },
  {
   "cell_type": "markdown",
   "metadata": {},
   "source": [
    "## For each reduced dataframe, encode the season"
   ]
  },
  {
   "cell_type": "code",
   "execution_count": 9,
   "metadata": {},
   "outputs": [
    {
     "name": "stdout",
     "output_type": "stream",
     "text": [
      "Done.\n",
      "Done.\n",
      "Done.\n",
      "Done.\n"
     ]
    }
   ],
   "source": [
    "import warnings\n",
    "warnings.simplefilter(\"ignore\")\n",
    "reduced_months = [reduced_months0001, reduced_months001, reduced_months01, reduced_months1]\n",
    "for set in reduced_months:\n",
    "  winter, spring, summer, fall = [set[\"dec\"], set[\"jan\"], set[\"feb\"]], [set[\"mar\"], set[\"apr\"], set[\"may\"]], [set[\"jun\"], set[\"jul\"], set[\"aug\"]], [set[\"sept\"], set[\"oct\"], set[\"nov\"]]\n",
    "  for month in winter:\n",
    "    month['winter'] = 1\n",
    "    month['spring'] = 0\n",
    "    month['summer'] = 0\n",
    "    month['fall'] = 0\n",
    "  for month in spring:\n",
    "    month['winter'] = 0\n",
    "    month['spring'] = 1\n",
    "    month['summer'] = 0\n",
    "    month['fall'] = 0\n",
    "  for month in summer:\n",
    "    month['winter'] = 0\n",
    "    month['spring'] = 0\n",
    "    month['summer'] = 1\n",
    "    month['fall'] = 0\n",
    "  for month in fall:  \n",
    "    month['winter'] = 0\n",
    "    month['spring'] = 0\n",
    "    month['summer'] = 0\n",
    "    month['fall'] = 1\n",
    "  print(\"Done.\")"
   ]
  },
  {
   "cell_type": "markdown",
   "metadata": {},
   "source": [
    "### Look at the number of records for each month in the original set"
   ]
  },
  {
   "cell_type": "code",
   "execution_count": 13,
   "metadata": {},
   "outputs": [],
   "source": [
    "month_leng = {}\n",
    "for month in months:\n",
    "    month_leng[month] = len(months[month].index)"
   ]
  },
  {
   "cell_type": "code",
   "execution_count": 14,
   "metadata": {},
   "outputs": [
    {
     "data": {
      "text/plain": [
       "{'jan': 7667792,\n",
       " 'feb': 7019375,\n",
       " 'mar': 7832545,\n",
       " 'apr': 7433139,\n",
       " 'may': 7565261,\n",
       " 'jun': 6941024,\n",
       " 'jul': 6310419,\n",
       " 'aug': 6073357,\n",
       " 'sept': 6567788,\n",
       " 'oct': 7213891,\n",
       " 'nov': 6878111,\n",
       " 'dec': 6896317}"
      ]
     },
     "execution_count": 14,
     "metadata": {},
     "output_type": "execute_result"
    }
   ],
   "source": [
    "month_leng"
   ]
  },
  {
   "cell_type": "markdown",
   "metadata": {},
   "source": [
    "### Look at the number of records for each month in the .01 % reduced set"
   ]
  },
  {
   "cell_type": "code",
   "execution_count": 15,
   "metadata": {},
   "outputs": [],
   "source": [
    "month_leng_red0001 = {}\n",
    "for month in reduced_months0001:\n",
    "    month_leng_red0001[month] = len(reduced_months0001[month].index)"
   ]
  },
  {
   "cell_type": "code",
   "execution_count": 16,
   "metadata": {},
   "outputs": [
    {
     "data": {
      "text/plain": [
       "{'jan': 766,\n",
       " 'feb': 701,\n",
       " 'mar': 783,\n",
       " 'apr': 743,\n",
       " 'may': 756,\n",
       " 'jun': 694,\n",
       " 'jul': 631,\n",
       " 'aug': 607,\n",
       " 'sept': 656,\n",
       " 'oct': 721,\n",
       " 'nov': 687,\n",
       " 'dec': 689}"
      ]
     },
     "execution_count": 16,
     "metadata": {},
     "output_type": "execute_result"
    }
   ],
   "source": [
    "month_leng_red0001"
   ]
  },
  {
   "cell_type": "markdown",
   "metadata": {},
   "source": [
    "### Look at the number of records for each month in the .1% reduced set"
   ]
  },
  {
   "cell_type": "code",
   "execution_count": 17,
   "metadata": {},
   "outputs": [
    {
     "data": {
      "text/plain": [
       "{'jan': 7667,\n",
       " 'feb': 7019,\n",
       " 'mar': 7832,\n",
       " 'apr': 7433,\n",
       " 'may': 7565,\n",
       " 'jun': 6941,\n",
       " 'jul': 6310,\n",
       " 'aug': 6073,\n",
       " 'sept': 6567,\n",
       " 'oct': 7213,\n",
       " 'nov': 6878,\n",
       " 'dec': 6896}"
      ]
     },
     "execution_count": 17,
     "metadata": {},
     "output_type": "execute_result"
    }
   ],
   "source": [
    "month_leng_red001 = {}\n",
    "for month in reduced_months001:\n",
    "    month_leng_red001[month] = len(reduced_months001[month].index)\n",
    "month_leng_red001"
   ]
  },
  {
   "cell_type": "markdown",
   "metadata": {},
   "source": [
    "### Look at the number of records for each month in the 1% reduced set"
   ]
  },
  {
   "cell_type": "code",
   "execution_count": 18,
   "metadata": {},
   "outputs": [
    {
     "data": {
      "text/plain": [
       "{'jan': 76677,\n",
       " 'feb': 70193,\n",
       " 'mar': 78325,\n",
       " 'apr': 74331,\n",
       " 'may': 75652,\n",
       " 'jun': 69410,\n",
       " 'jul': 63104,\n",
       " 'aug': 60733,\n",
       " 'sept': 65677,\n",
       " 'oct': 72138,\n",
       " 'nov': 68781,\n",
       " 'dec': 68963}"
      ]
     },
     "execution_count": 18,
     "metadata": {},
     "output_type": "execute_result"
    }
   ],
   "source": [
    "month_leng_red01 = {}\n",
    "for month in reduced_months01:\n",
    "    month_leng_red01[month] = len(reduced_months01[month].index)\n",
    "month_leng_red01"
   ]
  },
  {
   "cell_type": "markdown",
   "metadata": {},
   "source": [
    "### Look at the number of records for each month in the 10% reduced set"
   ]
  },
  {
   "cell_type": "code",
   "execution_count": 19,
   "metadata": {},
   "outputs": [
    {
     "data": {
      "text/plain": [
       "{'jan': 766779,\n",
       " 'feb': 701937,\n",
       " 'mar': 783254,\n",
       " 'apr': 743313,\n",
       " 'may': 756526,\n",
       " 'jun': 694102,\n",
       " 'jul': 631041,\n",
       " 'aug': 607335,\n",
       " 'sept': 656778,\n",
       " 'oct': 721389,\n",
       " 'nov': 687811,\n",
       " 'dec': 689631}"
      ]
     },
     "execution_count": 19,
     "metadata": {},
     "output_type": "execute_result"
    }
   ],
   "source": [
    "month_leng_red1 = {}\n",
    "for month in reduced_months1:\n",
    "    month_leng_red1[month] = len(reduced_months1[month].index)\n",
    "month_leng_red1"
   ]
  },
  {
   "cell_type": "markdown",
   "metadata": {},
   "source": [
    "### Find out how many records there are for the whole year in the original data set"
   ]
  },
  {
   "cell_type": "code",
   "execution_count": 20,
   "metadata": {},
   "outputs": [
    {
     "data": {
      "text/plain": [
       "84399019"
      ]
     },
     "execution_count": 20,
     "metadata": {},
     "output_type": "execute_result"
    }
   ],
   "source": [
    "total_length = 0\n",
    "for month in month_leng:\n",
    "  total_length += month_leng[month]\n",
    "total_length"
   ]
  },
  {
   "cell_type": "markdown",
   "metadata": {},
   "source": [
    "### Number of records for the whole year in the .01% reduced data set"
   ]
  },
  {
   "cell_type": "code",
   "execution_count": 21,
   "metadata": {},
   "outputs": [
    {
     "data": {
      "text/plain": [
       "8434"
      ]
     },
     "execution_count": 21,
     "metadata": {},
     "output_type": "execute_result"
    }
   ],
   "source": [
    "total_length_reduced0001 = 0\n",
    "for month in month_leng_red0001:\n",
    "  total_length_reduced0001 += month_leng_red0001[month]\n",
    "total_length_reduced0001"
   ]
  },
  {
   "cell_type": "markdown",
   "metadata": {},
   "source": [
    "### Number of records for the whole year in the .1% reudced data set"
   ]
  },
  {
   "cell_type": "code",
   "execution_count": 22,
   "metadata": {},
   "outputs": [
    {
     "data": {
      "text/plain": [
       "84394"
      ]
     },
     "execution_count": 22,
     "metadata": {},
     "output_type": "execute_result"
    }
   ],
   "source": [
    "total_length_reduced001 = 0\n",
    "for month in month_leng_red001:\n",
    "  total_length_reduced001 += month_leng_red001[month]\n",
    "total_length_reduced001"
   ]
  },
  {
   "cell_type": "markdown",
   "metadata": {},
   "source": [
    "### Number of records for the whole year in the 1% reduced data set"
   ]
  },
  {
   "cell_type": "code",
   "execution_count": 23,
   "metadata": {},
   "outputs": [
    {
     "data": {
      "text/plain": [
       "843984"
      ]
     },
     "execution_count": 23,
     "metadata": {},
     "output_type": "execute_result"
    }
   ],
   "source": [
    "total_length_reduced01 = 0\n",
    "for month in month_leng_red01:\n",
    "  total_length_reduced01 += month_leng_red01[month]\n",
    "total_length_reduced01"
   ]
  },
  {
   "cell_type": "markdown",
   "metadata": {},
   "source": [
    "### Number of records for the whole year in the 10 % reduced data set"
   ]
  },
  {
   "cell_type": "code",
   "execution_count": 24,
   "metadata": {},
   "outputs": [
    {
     "data": {
      "text/plain": [
       "8439896"
      ]
     },
     "execution_count": 24,
     "metadata": {},
     "output_type": "execute_result"
    }
   ],
   "source": [
    "total_length_reduced1 = 0\n",
    "for month in month_leng_red1:\n",
    "  total_length_reduced1 += month_leng_red1[month]\n",
    "total_length_reduced1"
   ]
  },
  {
   "cell_type": "markdown",
   "metadata": {},
   "source": [
    "### Concatenate each of the dataframes together and write them the csvs"
   ]
  },
  {
   "cell_type": "code",
   "execution_count": 43,
   "metadata": {},
   "outputs": [],
   "source": [
    "pd.concat(reduced_months0001, ignore_index = True).to_csv(r\"taxi-reduced-8434\", index = \"False\")"
   ]
  },
  {
   "cell_type": "code",
   "execution_count": 44,
   "metadata": {},
   "outputs": [],
   "source": [
    "pd.concat(reduced_months001, ignore_index = True).to_csv(r\"taxi-reduced-84394\", index = \"False\")"
   ]
  },
  {
   "cell_type": "code",
   "execution_count": 36,
   "metadata": {},
   "outputs": [],
   "source": [
    "pd.concat(reduced_months01, ignore_index = True).to_csv(r\"taxi-reduced-843984\", index = \"False\")"
   ]
  },
  {
   "cell_type": "code",
   "execution_count": 42,
   "metadata": {},
   "outputs": [],
   "source": [
    "pd.concat(reduced_months1, ignore_index = True).to_csv(r\"taxi-reduced-8439896\", index = \"False\")"
   ]
  }
 ],
 "metadata": {
  "kernelspec": {
   "display_name": "Python 3",
   "language": "python",
   "name": "python3"
  },
  "language_info": {
   "codemirror_mode": {
    "name": "ipython",
    "version": 3
   },
   "file_extension": ".py",
   "mimetype": "text/x-python",
   "name": "python",
   "nbconvert_exporter": "python",
   "pygments_lexer": "ipython3",
   "version": "3.7.4"
  }
 },
 "nbformat": 4,
 "nbformat_minor": 2
}
